{
 "cells": [
  {
   "cell_type": "markdown",
   "id": "67ad8128-57db-4fcb-9335-c8d4ed152625",
   "metadata": {},
   "source": [
    "<h1 style=\"text-align:left;color:brown\">\n",
    "    Getting Started With Python 🐍\n",
    "    <span style=\"float:right;font-size:medium\">\n",
    "      [ notebook : 006 ] 🟡🔴\n",
    "    </span>\n",
    "</h1>\n",
    "<span style=\"float:right;font-size:medium\"><tt>Code by : Jayadev Patil</tt></span>"
   ]
  },
  {
   "cell_type": "markdown",
   "id": "57106371-2540-42ef-887c-3bb70d36c835",
   "metadata": {},
   "source": [
    "* Object-Oriented Programming (OOP) is a way to structure the code by thinking about real-world objects in terms of their attributes and behaviors.\n",
    "* We can create the blueprints called as classes and the make a specific instances of those classes called objects"
   ]
  },
  {
   "cell_type": "markdown",
   "id": "463fef84-bd1b-4e32-9d1f-c64e0a2b9123",
   "metadata": {},
   "source": [
    "## <u><strong>Python Intermediate</strong></u><span style=\"float:right;font-size:medium\"><a href='https://github.com/jayadevnpatil'>github</a></span>\n",
    "This notebook covers <tt><strong>classes</strong></tt> \n",
    "* <strong><tt>classes</strong></tt> and <strong><tt>objects</strong></tt>\n",
    "* <strong><tt> __ init __()</strong></tt> method\n",
    "* <strong><tt>self</strong></tt> what is it ??\n",
    "* Class variables and Instance variable\n",
    "* Class methods and Instance methods\n",
    "* Deleting an object\n",
    "\n",
    "<strong style=\"text-align:left;color:green\">Note : This code can be copied and reproduced for educational purposes.</strong> "
   ]
  },
  {
   "cell_type": "markdown",
   "id": "a18220c2-9348-416e-be22-9286c4265990",
   "metadata": {},
   "source": [
    "### 6.1 <strong><tt>classes</strong></tt> and <strong><tt>objects</strong></tt>"
   ]
  },
  {
   "cell_type": "markdown",
   "id": "3db40837-aa5b-49f9-8902-e7da859d16c1",
   "metadata": {},
   "source": [
    "A **Class** serves as a way to bundle data and functionality together in a structured and organized manner. \n",
    "\n",
    "**attributes**: Variables that store data associated with an instance of the class. They are defined within the constructor method and accessed using self.\n",
    "\n",
    "**methods**: Functions that are defined within the class. They operate on the instance's data and can perform various actions."
   ]
  },
  {
   "cell_type": "code",
   "execution_count": 1,
   "id": "1879c2ed-742b-488e-a170-f5471a710109",
   "metadata": {},
   "outputs": [],
   "source": [
    "# Let us consider a simple Adder with 2 operands \n",
    "class Adder:\n",
    "    # data attributes\n",
    "    def __init__(self, x, y):\n",
    "        self.operand1 = x\n",
    "        self.operand2 = y\n",
    "\n",
    "    # method (allied functionality)\n",
    "    def add(self):\n",
    "        return self.operand1 + self.operand2"
   ]
  },
  {
   "cell_type": "markdown",
   "id": "8687b217-8593-4899-a20a-c06b05b606e7",
   "metadata": {},
   "source": [
    "A class is a blueprint, for creating the instances"
   ]
  },
  {
   "cell_type": "code",
   "execution_count": 2,
   "id": "2f2b4d08-cb0c-4e48-9710-721108f3e8a2",
   "metadata": {},
   "outputs": [],
   "source": [
    "class Greet:\n",
    "    def Hello(name):\n",
    "        print(\"Hello\", name)"
   ]
  },
  {
   "cell_type": "code",
   "execution_count": 3,
   "id": "7ada39a7-fbe8-4fc2-811b-0d4cc838fd5e",
   "metadata": {},
   "outputs": [
    {
     "name": "stdout",
     "output_type": "stream",
     "text": [
      "Hello bob\n",
      "Hello john\n",
      "Hello ryan\n"
     ]
    }
   ],
   "source": [
    "g = Greet\n",
    "h = Greet\n",
    "i = Greet\n",
    "\n",
    "g.Hello(\"bob\")\n",
    "h.Hello(\"john\")\n",
    "i.Hello(\"ryan\")"
   ]
  },
  {
   "cell_type": "markdown",
   "id": "0f879a1b-90a7-4e55-908e-ca221e502ea3",
   "metadata": {},
   "source": [
    "### 6.2 <strong><tt>__ init __()</strong></tt> method "
   ]
  },
  {
   "cell_type": "markdown",
   "id": "c2ad1790-e0bd-4f56-8be5-83a78b11aa76",
   "metadata": {},
   "source": [
    "The **__ init __ ()** method in Python is a special method, also known as the constructor method. It is automatically called when an object is created from a class. The purpose of the **__ init __ ()** method is to initialize the attributes of the object with values provided during the object's instantiation."
   ]
  },
  {
   "cell_type": "code",
   "execution_count": 4,
   "id": "ec671676-f7b0-4800-902d-4291d4c727c7",
   "metadata": {},
   "outputs": [],
   "source": [
    "class Wish:\n",
    "    def __init__(self):\n",
    "        print(\"Good Morning\")"
   ]
  },
  {
   "cell_type": "code",
   "execution_count": 5,
   "id": "67a027e7-863e-4018-b1d2-192668a13587",
   "metadata": {},
   "outputs": [
    {
     "name": "stdout",
     "output_type": "stream",
     "text": [
      "Good Morning\n"
     ]
    }
   ],
   "source": [
    "a = Wish()"
   ]
  },
  {
   "cell_type": "markdown",
   "id": "9ce58269-c7f9-467f-8e23-fc28fa5adfff",
   "metadata": {},
   "source": [
    "* __ init __() method may receive the arguments"
   ]
  },
  {
   "cell_type": "code",
   "execution_count": 6,
   "id": "f7d5a5ac-49d2-46e3-a009-d98a644988df",
   "metadata": {},
   "outputs": [
    {
     "name": "stdout",
     "output_type": "stream",
     "text": [
      "Good Morning kane\n"
     ]
    }
   ],
   "source": [
    "class Wish:\n",
    "    def __init__(self, name):\n",
    "        print(\"Good Morning\", name)\n",
    "a = Wish(\"kane\")"
   ]
  },
  {
   "cell_type": "markdown",
   "id": "58296546-510d-46eb-826d-ca9a9f0c1814",
   "metadata": {},
   "source": [
    "* A simple example of a class "
   ]
  },
  {
   "cell_type": "code",
   "execution_count": 7,
   "id": "ea7a5702-5619-4d21-954a-8265b452a98e",
   "metadata": {},
   "outputs": [],
   "source": [
    "class Student:\n",
    "    \"\"\"This is a simple example of a class\"\"\"\n",
    "    def __init__(self, name, age):\n",
    "        self.name = name\n",
    "        self.age = age"
   ]
  },
  {
   "cell_type": "code",
   "execution_count": 8,
   "id": "3acbd0bf-5815-4098-9697-23110837ecd7",
   "metadata": {},
   "outputs": [],
   "source": [
    "# Instantiation : create new object\n",
    "s1 = Student( \"kiran\", 22)\n",
    "s2 = Student( \"akash\", 21)\n",
    "s3 = Student( \"geeta\", 23)"
   ]
  },
  {
   "cell_type": "code",
   "execution_count": 9,
   "id": "8a004bea-7722-494c-a91b-4fe9c16d7c7e",
   "metadata": {},
   "outputs": [
    {
     "name": "stdout",
     "output_type": "stream",
     "text": [
      "kiran\n",
      "21\n"
     ]
    }
   ],
   "source": [
    "# attribute reference\n",
    "print(s1.name)\n",
    "print(s2.age)"
   ]
  },
  {
   "cell_type": "code",
   "execution_count": 10,
   "id": "e40576b6-c54a-4279-9d3a-deac4cb81d27",
   "metadata": {},
   "outputs": [
    {
     "name": "stdout",
     "output_type": "stream",
     "text": [
      "This is a simple example of a class\n"
     ]
    }
   ],
   "source": [
    "print(s1.__doc__)"
   ]
  },
  {
   "cell_type": "markdown",
   "id": "b92d64f4-cafa-4637-85ea-f51ea9365150",
   "metadata": {},
   "source": [
    "### 6.3 <strong><tt>self</strong></tt> what is it ??"
   ]
  },
  {
   "cell_type": "markdown",
   "id": "98cd47fb-6a2f-49e4-975e-ccc50dbb3dcb",
   "metadata": {},
   "source": [
    "<strong><tt>self</strong></tt> variable is the reference to the the current instance of the class, it is used to access the variables of the particular instance"
   ]
  },
  {
   "cell_type": "code",
   "execution_count": 11,
   "id": "16f5a32c-ceb1-4f8a-9fce-1be1bee8ef4e",
   "metadata": {},
   "outputs": [
    {
     "name": "stdout",
     "output_type": "stream",
     "text": [
      "<__main__.Wish object at 0x000001D472983B80>\n",
      "Good Morning kiran\n",
      "\n",
      "<__main__.Wish object at 0x000001D47295CBE0>\n",
      "Good Morning Akash\n",
      "\n",
      "<__main__.Wish object at 0x000001D47292D3A0>\n",
      "Good Morning geeta\n",
      "\n"
     ]
    }
   ],
   "source": [
    "class Wish:\n",
    "    def __init__(self, name):\n",
    "        print(self) # <------ <__main__.Wish object at 0x0000xxxxxxxxxxx>\n",
    "        print(\"Good Morning\", name)\n",
    "        print()\n",
    "\n",
    "a = Wish(\"kiran\") # memory location of object a\n",
    "b = Wish(\"Akash\") # memory location of object b\n",
    "c = Wish(\"geeta\") # memory location of object c"
   ]
  },
  {
   "cell_type": "markdown",
   "id": "fd3b3a8a-b90f-4686-8585-a744904ef4ce",
   "metadata": {},
   "source": [
    "self is a convention and not a Python keyword. you can use any word instead of self, but it is always the first argument to a class instance method\n",
    "\n",
    "Note : use self in order to increase readability"
   ]
  },
  {
   "cell_type": "code",
   "execution_count": 12,
   "id": "9c86e525-d882-480c-a9df-d3d3fc462405",
   "metadata": {},
   "outputs": [
    {
     "name": "stdout",
     "output_type": "stream",
     "text": [
      "2 3\n"
     ]
    }
   ],
   "source": [
    "class temp:\n",
    "    def __init__(donut, a ,b):\n",
    "        donut.a = a \n",
    "        donut.b = b\n",
    "\n",
    "    def printVariables(self):\n",
    "        print(self.a, self.b)\n",
    "\n",
    "a = temp(5, 6)\n",
    "s = temp(2, 3)\n",
    "s.printVariables()"
   ]
  },
  {
   "cell_type": "markdown",
   "id": "fb2a0698-e068-4683-8eb8-f23fe8038580",
   "metadata": {},
   "source": [
    "### 6.4 Class variables and Instance variable"
   ]
  },
  {
   "cell_type": "markdown",
   "id": "46636434-39fc-4447-954f-36426c73c285",
   "metadata": {},
   "source": [
    "Class variables and instance variables are two types of variables that can be defined within a class. \n",
    "\n",
    "1. Class Variables\n",
    "   * Class variables are shared by all instances of the class\n",
    "   * Typically placed at the top of the class definition\n",
    "   * They are often used to store data that is common to all instances of the class\n",
    "\n",
    "2. Instance Variables\n",
    "   * Instance variables are specific to each instance of a class\n",
    "   * They are defined within methods, especially in the **__ init __** method, using the **self** keyword"
   ]
  },
  {
   "cell_type": "code",
   "execution_count": 13,
   "id": "35d9a39b-58e9-4214-a478-b955816ab33a",
   "metadata": {},
   "outputs": [],
   "source": [
    "class Electronics:\n",
    "    # class variable : shared by all instance\n",
    "    role = \"Laptop\"\n",
    "\n",
    "    def __init__(self, brand):\n",
    "        # instance variable : applicable to respective object\n",
    "        self.brand = brand\n",
    "\n",
    "l = Electronics(\"Lenovo\")\n",
    "h = Electronics(\"Hp\")"
   ]
  },
  {
   "cell_type": "code",
   "execution_count": 14,
   "id": "2cdc580e-e732-4620-9e23-8e070c021f6e",
   "metadata": {},
   "outputs": [
    {
     "name": "stdout",
     "output_type": "stream",
     "text": [
      "class variable : Laptop\n",
      "class variable : Laptop\n",
      "class variable : Laptop\n",
      "instance variable : Lenovo\n",
      "instance variable : Hp\n"
     ]
    }
   ],
   "source": [
    "print(\"class variable :\", Electronics.role)\n",
    "\n",
    "print(\"class variable :\", l.role)\n",
    "print(\"class variable :\", h.role)\n",
    "\n",
    "print(\"instance variable :\", l.brand)\n",
    "print(\"instance variable :\", h.brand)"
   ]
  },
  {
   "cell_type": "code",
   "execution_count": 15,
   "id": "98e1addf-c47f-4f37-8ec3-2b9bcf262d3a",
   "metadata": {},
   "outputs": [
    {
     "data": {
      "text/plain": [
       "__main__.Electronics"
      ]
     },
     "execution_count": 15,
     "metadata": {},
     "output_type": "execute_result"
    }
   ],
   "source": [
    "l.__class__"
   ]
  },
  {
   "cell_type": "markdown",
   "id": "36defac6-948a-4fc9-9ddb-3a555de76894",
   "metadata": {},
   "source": [
    "### 6.5 Class methods and Instance methods"
   ]
  },
  {
   "cell_type": "markdown",
   "id": "f44f8228-4ef7-427e-b6cc-bf7955439920",
   "metadata": {},
   "source": [
    "In a class definition a method is a function that is associated with an object created from that class. There are two main types of methods in a class\n",
    "\n",
    "1. Class Methods\n",
    "   * These methods are bound to the class and not the instance of the class\n",
    "   * They are defined using the **@classmethod** decorator and have the class itself as their first parameter, conventionally named **cls**\n",
    "   * Class methods can be used for operations that involve the class, rather than an instance of the class\n",
    "  \n",
    "2. Instance Methods\n",
    "   * These methods are bound to the instance of the class\n",
    "   * They operate on an instance of the class and have access to the instance's attributes\n",
    "   * The first parameter of an instance method is conventionally named self and refers to the instance on which the method is called"
   ]
  },
  {
   "cell_type": "code",
   "execution_count": 16,
   "id": "cff03529-f217-472f-8aa2-96250adcff4e",
   "metadata": {},
   "outputs": [],
   "source": [
    "class Example:\n",
    "    @classmethod\n",
    "    def ClassMethod(cls):\n",
    "        print(\"Hi, this is the example for class method\")\n",
    "\n",
    "    def InstanceMethod(self):\n",
    "        print(\"Hello, this is the example of instance method\")"
   ]
  },
  {
   "cell_type": "code",
   "execution_count": 17,
   "id": "6d630196-6a61-497c-84c9-3b3ef0717fdc",
   "metadata": {},
   "outputs": [
    {
     "name": "stdout",
     "output_type": "stream",
     "text": [
      "Hi, this is the example for class method\n"
     ]
    }
   ],
   "source": [
    "Example.ClassMethod()"
   ]
  },
  {
   "cell_type": "code",
   "execution_count": 18,
   "id": "c430278e-5cf8-4673-be29-88aa0bb9356f",
   "metadata": {},
   "outputs": [
    {
     "name": "stdout",
     "output_type": "stream",
     "text": [
      "Hello, this is the example of instance method\n"
     ]
    }
   ],
   "source": [
    "obj = Example()\n",
    "obj.InstanceMethod()"
   ]
  },
  {
   "cell_type": "markdown",
   "id": "60080d5d-293b-41eb-85fc-0600700a159f",
   "metadata": {},
   "source": [
    "### 6.5 Deleting an object"
   ]
  },
  {
   "cell_type": "markdown",
   "id": "4138ae59-d11f-4558-afaf-03f6f9d62c3d",
   "metadata": {},
   "source": [
    "In Python, an object is deleted using the del statement"
   ]
  },
  {
   "cell_type": "code",
   "execution_count": 19,
   "id": "651c9b9e-1dcb-47b4-b58d-04cdd7b61afb",
   "metadata": {},
   "outputs": [],
   "source": [
    "class temp:\n",
    "    def __init__(self, a ,b):\n",
    "        self.a = a \n",
    "        self.b = b\n",
    "\n",
    "    def printVariables(self):\n",
    "        print(self.a, self.b)"
   ]
  },
  {
   "cell_type": "code",
   "execution_count": 20,
   "id": "22aec0a5-f9be-46a4-b677-2ba06092922c",
   "metadata": {},
   "outputs": [
    {
     "ename": "NameError",
     "evalue": "name 'a' is not defined",
     "output_type": "error",
     "traceback": [
      "\u001b[1;31m---------------------------------------------------------------------------\u001b[0m",
      "\u001b[1;31mNameError\u001b[0m                                 Traceback (most recent call last)",
      "Cell \u001b[1;32mIn[20], line 4\u001b[0m\n\u001b[0;32m      2\u001b[0m a \u001b[38;5;241m=\u001b[39m temp(\u001b[38;5;241m5\u001b[39m, \u001b[38;5;241m6\u001b[39m)\n\u001b[0;32m      3\u001b[0m \u001b[38;5;28;01mdel\u001b[39;00m a \n\u001b[1;32m----> 4\u001b[0m \u001b[43ma\u001b[49m\u001b[38;5;241m.\u001b[39mprintVariables()\n",
      "\u001b[1;31mNameError\u001b[0m: name 'a' is not defined"
     ]
    }
   ],
   "source": [
    "# delete an object\n",
    "a = temp(5, 6)\n",
    "del a \n",
    "a.printVariables()"
   ]
  }
 ],
 "metadata": {
  "kernelspec": {
   "display_name": "Python [conda env:jd] *",
   "language": "python",
   "name": "conda-env-jd-py"
  },
  "language_info": {
   "codemirror_mode": {
    "name": "ipython",
    "version": 3
   },
   "file_extension": ".py",
   "mimetype": "text/x-python",
   "name": "python",
   "nbconvert_exporter": "python",
   "pygments_lexer": "ipython3",
   "version": "3.9.18"
  }
 },
 "nbformat": 4,
 "nbformat_minor": 5
}
