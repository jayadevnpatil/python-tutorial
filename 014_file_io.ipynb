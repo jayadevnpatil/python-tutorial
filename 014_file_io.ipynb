{
 "cells": [
  {
   "cell_type": "markdown",
   "id": "67ad8128-57db-4fcb-9335-c8d4ed152625",
   "metadata": {},
   "source": [
    "<h1 style=\"text-align:left;color:brown\">\n",
    "    Getting Started With Python 🐍\n",
    "    <span style=\"float:right;font-size:medium\">\n",
    "      [ notebook : 001 ] 🟡🔴\n",
    "    </span>\n",
    "</h1>\n",
    "<span style=\"float:right;font-size:medium\"><tt>Code by : Jayadev Patil</tt></span>"
   ]
  },
  {
   "cell_type": "markdown",
   "id": "463fef84-bd1b-4e32-9d1f-c64e0a2b9123",
   "metadata": {},
   "source": [
    "## <u><strong>Python Intermediate</strong></u><span style=\"float:right;font-size:medium\"><a href='https://github.com/jayadevnpatil'>github</a></span>\n",
    "This notebook covers <tt><strong>file handling</strong></tt> in python which includes\n",
    "* Reading file\n",
    "* Writing to file\n",
    "* File read/write modes\n",
    "\n",
    "<strong style=\"text-align:left;color:green\">Note : This code can be copied and reproduced for educational purposes.</strong> "
   ]
  },
  {
   "cell_type": "markdown",
   "id": "a18220c2-9348-416e-be22-9286c4265990",
   "metadata": {},
   "source": [
    "### 1.1 Reading and Writing Files"
   ]
  },
  {
   "cell_type": "markdown",
   "id": "3db40837-aa5b-49f9-8902-e7da859d16c1",
   "metadata": {},
   "source": [
    "Python provides built-in functions and methods for handling file operations"
   ]
  },
  {
   "cell_type": "markdown",
   "id": "c9e6e5d7-f194-4898-b796-dd98b0435fd7",
   "metadata": {},
   "source": [
    "#### 1.1.1 Reading files"
   ]
  },
  {
   "cell_type": "markdown",
   "id": "dc7785c4-90c9-4ced-b81f-689fe98fd66a",
   "metadata": {},
   "source": [
    "* The contents of the file can be read using <tt><strong>open()</tt></strong>, which returns a file object.\n",
    "* <tt><strong>open()</tt></strong> takes 2 positional and one keyword argument such as <br><tt><strong>f = open(filename, mode, encoding=None)</tt></strong>\n",
    "<br><br>\n",
    "* Arguements \n",
    "  - First : name of the file\n",
    "  - Second  : characters representing the mode in which file is handles\n",
    "  - Third  : enoding type\n",
    "<br><br>\n",
    " * Modes \n",
    "   - 'r' : read only\n",
    "   - 'w' : write only\n",
    "   - 'a' : append\n",
    "   - 'r+' : both read and write\n",
    "<br><br>\n",
    "* Note :\n",
    "  - 'r' will be assigned as default mode if not specified\n",
    "  - Appendig 'b' to any of the modes will open file in binary\n",
    "<br><br>\n",
    "* filename<tt><strong>.close()</tt></strong> closes the file and free system resources"
   ]
  },
  {
   "cell_type": "code",
   "execution_count": 1,
   "id": "e31f6f6c-f02a-4bb6-8ab2-56cacc11b329",
   "metadata": {},
   "outputs": [
    {
     "name": "stdout",
     "output_type": "stream",
     "text": [
      "Lorem Ipsum is simply dummy text of the printing and typesetting industry.\n",
      "Lorem Ipsum has been the industry's standard dummy text ever since the 1500s,\n",
      "when an unknown printer took a galley of type and scrambled it to make a type\n",
      "specimen book. It has survived not only five centuries, but also the leap into\n",
      "electronic typesetting, remaining essentially unchanged. \n",
      "It was popularised in the 1960s with the release of Letraset sheets containing \n",
      "Lorem Ipsum passages, and more recently with desktop publishing software like \n",
      "Aldus PageMaker including versions of Lorem Ipsum\n"
     ]
    }
   ],
   "source": [
    "file = open('filename.txt','r')\n",
    "\n",
    "content = file.read()\n",
    "print(content)\n",
    "\n",
    "file.close()"
   ]
  },
  {
   "cell_type": "code",
   "execution_count": 2,
   "id": "120c4ba7-094a-41de-8adf-5dcfb8cb0d3a",
   "metadata": {},
   "outputs": [
    {
     "name": "stdout",
     "output_type": "stream",
     "text": [
      "False\n",
      "True\n"
     ]
    }
   ],
   "source": [
    "file = open('filename.txt','r')\n",
    "print(file.closed) # file is open \n",
    "\n",
    "file.close()\n",
    "print(file.closed) # file is closed"
   ]
  },
  {
   "cell_type": "markdown",
   "id": "46c7a5a8-563e-43a2-bc58-1c68e5d35aa9",
   "metadata": {},
   "source": [
    "* Generally <tt><strong>with</tt></strong> keyword is used along with <tt><strong>open()</tt></strong>\n",
    "* This properly closes the file after the blockis executed"
   ]
  },
  {
   "cell_type": "code",
   "execution_count": 3,
   "id": "e3bee329-1a14-4216-9627-bc442bb2d469",
   "metadata": {},
   "outputs": [
    {
     "name": "stdout",
     "output_type": "stream",
     "text": [
      "False\n",
      "True\n"
     ]
    }
   ],
   "source": [
    "with open('filename.txt', 'r') as file:    \n",
    "    print(file.closed) # file is open \n",
    "    \n",
    "print(file.closed) # file is closed"
   ]
  },
  {
   "cell_type": "markdown",
   "id": "98c59e02-7e5b-44eb-8592-21c5e84970bc",
   "metadata": {},
   "source": [
    "### 1.2 Methods of file objects"
   ]
  },
  {
   "cell_type": "markdown",
   "id": "eb480372-7925-4630-adc1-0e790fd73886",
   "metadata": {},
   "source": [
    "* <strong>read(</tt></strong>size<tt><strong>)</tt></strong> reads content of the specified size.\n",
    "* If the size is negetive or not defined entire cotent is shown"
   ]
  },
  {
   "cell_type": "code",
   "execution_count": 4,
   "id": "740ec10e-0600-4c4f-809a-1a9cf2de6442",
   "metadata": {},
   "outputs": [
    {
     "name": "stdout",
     "output_type": "stream",
     "text": [
      "Lorem Ip\n"
     ]
    }
   ],
   "source": [
    "with open('filename.txt', 'r') as file:    \n",
    "    content = file.read(8)\n",
    "    print(content)"
   ]
  },
  {
   "cell_type": "markdown",
   "id": "9937f61d-71a6-466a-b535-b9a00741d2bc",
   "metadata": {},
   "source": [
    "* <strong>readline()</tt></strong> reads a single line from the file, i.e until it detects '\\n'"
   ]
  },
  {
   "cell_type": "code",
   "execution_count": 5,
   "id": "f3b6974b-b2e6-422c-99f7-a2226c3469a0",
   "metadata": {},
   "outputs": [
    {
     "name": "stdout",
     "output_type": "stream",
     "text": [
      "Lorem Ipsum is simply dummy text of the printing and typesetting industry.\n",
      "\n",
      "Lorem Ipsum has been the industry's standard dummy text ever since the 1500s,\n",
      "\n"
     ]
    }
   ],
   "source": [
    "with open('filename.txt', 'r') as file:    \n",
    "    print(file.readline())\n",
    "    print(file.readline())"
   ]
  },
  {
   "cell_type": "markdown",
   "id": "ee1a4aef-de5e-435a-866a-c5fc42bb5860",
   "metadata": {},
   "source": [
    "* <strong>readlines()</tt></strong> reads all the lines in the file"
   ]
  },
  {
   "cell_type": "code",
   "execution_count": 6,
   "id": "3fb16053-662e-40eb-9ebe-1ad3ecb77286",
   "metadata": {},
   "outputs": [
    {
     "name": "stdout",
     "output_type": "stream",
     "text": [
      "8\n"
     ]
    }
   ],
   "source": [
    "with open('filename.txt', 'r') as file:    \n",
    "    lines = file.readlines()\n",
    "    print(len(lines))"
   ]
  },
  {
   "cell_type": "markdown",
   "id": "fffe8260-ea8b-4aeb-972d-d86c954b9457",
   "metadata": {},
   "source": [
    "* <strong>write()</tt></strong> write a single string to the file"
   ]
  },
  {
   "cell_type": "code",
   "execution_count": 7,
   "id": "ca8451a9-b177-4568-9f02-2c3c3bca4b64",
   "metadata": {},
   "outputs": [],
   "source": [
    "with open('outfile.txt', 'w') as file:    \n",
    "    file.write('i am learning File IO in python')"
   ]
  },
  {
   "cell_type": "markdown",
   "id": "425a442c-ebd1-48be-8416-421ad347083e",
   "metadata": {},
   "source": [
    "* <strong>writelines()</tt></strong> Write multiple lines at once"
   ]
  },
  {
   "cell_type": "code",
   "execution_count": 8,
   "id": "edd0aa5b-a6b5-4b72-8661-ae64d5459625",
   "metadata": {},
   "outputs": [],
   "source": [
    "with open('outfile.txt', 'w') as file:\n",
    "    lines = [\"I\\n\", \"am\\n\", \"Learning\\n\", \"File IO\\n\"]\n",
    "    file.writelines(lines)"
   ]
  }
 ],
 "metadata": {
  "kernelspec": {
   "display_name": "Python [conda env:jd] *",
   "language": "python",
   "name": "conda-env-jd-py"
  },
  "language_info": {
   "codemirror_mode": {
    "name": "ipython",
    "version": 3
   },
   "file_extension": ".py",
   "mimetype": "text/x-python",
   "name": "python",
   "nbconvert_exporter": "python",
   "pygments_lexer": "ipython3",
   "version": "3.9.18"
  }
 },
 "nbformat": 4,
 "nbformat_minor": 5
}
