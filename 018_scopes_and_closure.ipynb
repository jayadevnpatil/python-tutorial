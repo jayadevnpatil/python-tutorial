{
 "cells": [
  {
   "cell_type": "markdown",
   "id": "67ad8128-57db-4fcb-9335-c8d4ed152625",
   "metadata": {},
   "source": [
    "<h1 style=\"text-align:left;color:brown\">\n",
    "    Getting Started With Python 🐍\n",
    "    <span style=\"float:right;font-size:medium\">\n",
    "      [ notebook : 005 ] 🟡🔴\n",
    "    </span>\n",
    "</h1>\n",
    "<span style=\"float:right;font-size:medium\"><tt>Code by : Jayadev Patil</tt></span>"
   ]
  },
  {
   "cell_type": "markdown",
   "id": "463fef84-bd1b-4e32-9d1f-c64e0a2b9123",
   "metadata": {},
   "source": [
    "## <u><strong>Python Intermediate</strong></u><span style=\"float:right;font-size:medium\"><a href='https://github.com/jayadevnpatil'>github</a></span>\n",
    "This notebook covers \n",
    "* Understanding **scope** of a variable\n",
    "* **Closures**\n",
    "\n",
    "<strong style=\"text-align:left;color:green\">Note : This code can be copied and reproduced for educational purposes.</strong> "
   ]
  },
  {
   "cell_type": "markdown",
   "id": "bb317eaf-a73e-4fc8-9739-05c1ac75c99f",
   "metadata": {
    "jp-MarkdownHeadingCollapsed": true
   },
   "source": [
    "### 5.1 Understanding the <strong>Scope</strong> of variable\n",
    "\n",
    "In Python, scopes define the region or context in which a variable is visible and can be accessed. There are three main types of scopes in Python:\n",
    "\n",
    "1. Local Scope\n",
    "   * Variables defined inside a function have local scope.\n",
    "   * They are only accessible within that function.\n",
    "   * Once the function exits, the local variables are destroyed.\n",
    "2. Enclosing (or Non-Local) Scope\n",
    "   * If a function is nested inside another function, the inner function has access to variables in the outer (enclosing) function's scope.\n",
    "   * This is where closures come into play.\n",
    "3. Global Scope\n",
    "   * Variables defined at the top level of a script or module have global scope.\n",
    "   * They can be accessed from any part of the code, including functions."
   ]
  },
  {
   "cell_type": "code",
   "execution_count": 1,
   "id": "82b64f91-f502-45b1-938d-448c4081c992",
   "metadata": {},
   "outputs": [
    {
     "name": "stdout",
     "output_type": "stream",
     "text": [
      "global scope : 1\n",
      "non-local scope : 2\n",
      "local scope : 3\n"
     ]
    }
   ],
   "source": [
    "x = 1 # global scope\n",
    "\n",
    "def outer():\n",
    "    y = 2 # non-local scope inside *inner()* function\n",
    "    \n",
    "    def inner():\n",
    "        z = 3 # local scope\n",
    "        print(f\"global scope : {x}\")\n",
    "        print(f\"non-local scope : {y}\")\n",
    "        print(f\"local scope : {z}\")\n",
    "    \n",
    "    inner()    \n",
    "outer()"
   ]
  },
  {
   "cell_type": "markdown",
   "id": "3ffebdff-4df2-45c4-8bf9-34d1e7a4cab0",
   "metadata": {},
   "source": [
    "#### Understand below paradigm"
   ]
  },
  {
   "cell_type": "code",
   "execution_count": 2,
   "id": "2b2f8b04-98b0-4a41-b439-54faccd34c4a",
   "metadata": {},
   "outputs": [
    {
     "name": "stdout",
     "output_type": "stream",
     "text": [
      "inner : 3\n",
      "outer : 2\n",
      "global : 1\n"
     ]
    }
   ],
   "source": [
    "a = 1\n",
    "\n",
    "def outer():\n",
    "    a = 2\n",
    "    \n",
    "    def inner():\n",
    "        a = 3\n",
    "        print(f\"inner : {a}\")\n",
    "    \n",
    "    inner()    \n",
    "    print(f\"outer : {a}\")\n",
    "\n",
    "outer()\n",
    "print(f\"global : {a}\")"
   ]
  },
  {
   "cell_type": "markdown",
   "id": "92d2e709-d63f-41b2-8231-d631d5143a8c",
   "metadata": {},
   "source": [
    "The **global** keyword is used to indicate that a variable is a global variable, i.e., it should be accessed from the global scope."
   ]
  },
  {
   "cell_type": "code",
   "execution_count": 3,
   "id": "06c6f986-afc9-41a3-a728-01a1a4fd7c5c",
   "metadata": {},
   "outputs": [
    {
     "name": "stdout",
     "output_type": "stream",
     "text": [
      "inner : 3\n",
      "outer : 2\n",
      "global : 3\n"
     ]
    }
   ],
   "source": [
    "a = 1\n",
    "\n",
    "def outer():\n",
    "    a = 2\n",
    "    \n",
    "    def inner():\n",
    "        global a\n",
    "        a = 3\n",
    "        print(f\"inner : {a}\")\n",
    "    \n",
    "    inner()    \n",
    "    print(f\"outer : {a}\")\n",
    "\n",
    "outer()\n",
    "print(f\"global : {a}\")"
   ]
  },
  {
   "cell_type": "markdown",
   "id": "3db40837-aa5b-49f9-8902-e7da859d16c1",
   "metadata": {},
   "source": [
    "The **nonlocal** keyword is used inside a nested function to indicate that a variable is not local to the innermost function but is in the nearest enclosing scope that is not global."
   ]
  },
  {
   "cell_type": "code",
   "execution_count": 4,
   "id": "db8396bb-549b-41a7-ad55-e4b4cc4afcca",
   "metadata": {},
   "outputs": [
    {
     "name": "stdout",
     "output_type": "stream",
     "text": [
      "inner : 3\n",
      "outer : 3\n",
      "global : 1\n"
     ]
    }
   ],
   "source": [
    "a = 1\n",
    "\n",
    "def outer():\n",
    "    a = 2\n",
    "    \n",
    "    def inner():\n",
    "        nonlocal a\n",
    "        a = 3\n",
    "        print(f\"inner : {a}\")\n",
    "    \n",
    "    inner()    \n",
    "    print(f\"outer : {a}\")\n",
    "\n",
    "outer()\n",
    "print(f\"global : {a}\")"
   ]
  },
  {
   "cell_type": "markdown",
   "id": "3f29908a-c9fe-43ba-a5cc-8c2b3c43cac5",
   "metadata": {
    "jp-MarkdownHeadingCollapsed": true
   },
   "source": [
    "### 5.2 **Closures** in python\n",
    "\n",
    "In Python, a **closure** is a function object that has access to variables in its lexical scope, even when the function is called outside that scope. In simpler terms, a closure allows a function to remember the environment in which it was created. This is particularly useful when you have a function defined inside another function, and the inner function references variables from the outer function."
   ]
  },
  {
   "cell_type": "code",
   "execution_count": 5,
   "id": "929b41d0-4a60-4822-8359-50c4bfceb366",
   "metadata": {},
   "outputs": [
    {
     "name": "stdout",
     "output_type": "stream",
     "text": [
      "Count: 1\n",
      "Count: 2\n",
      "Count: 3\n"
     ]
    }
   ],
   "source": [
    "def createCounter():\n",
    "    count = 0\n",
    "    \n",
    "    def increment():\n",
    "        nonlocal count\n",
    "        count += 1\n",
    "        print(f\"Count: {count}\")\n",
    "\n",
    "    return increment\n",
    "\n",
    "# Create a closure (counter) using the outer function\n",
    "counter = createCounter()\n",
    "\n",
    "# Use the closure in different parts of your code\n",
    "counter()\n",
    "counter()\n",
    "counter()"
   ]
  }
 ],
 "metadata": {
  "kernelspec": {
   "display_name": "Python [conda env:jd] *",
   "language": "python",
   "name": "conda-env-jd-py"
  },
  "language_info": {
   "codemirror_mode": {
    "name": "ipython",
    "version": 3
   },
   "file_extension": ".py",
   "mimetype": "text/x-python",
   "name": "python",
   "nbconvert_exporter": "python",
   "pygments_lexer": "ipython3",
   "version": "3.9.18"
  }
 },
 "nbformat": 4,
 "nbformat_minor": 5
}
