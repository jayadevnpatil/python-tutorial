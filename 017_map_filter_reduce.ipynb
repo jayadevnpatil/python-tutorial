{
 "cells": [
  {
   "cell_type": "markdown",
   "id": "67ad8128-57db-4fcb-9335-c8d4ed152625",
   "metadata": {},
   "source": [
    "<h1 style=\"text-align:left;color:brown\">\n",
    "    Getting Started With Python 🐍\n",
    "    <span style=\"float:right;font-size:medium\">\n",
    "      [ notebook : 0 ] 🟡🔴\n",
    "    </span>\n",
    "</h1>\n",
    "<span style=\"float:right;font-size:medium\"><tt>Code by : Jayadev Patil</tt></span>"
   ]
  },
  {
   "cell_type": "markdown",
   "id": "463fef84-bd1b-4e32-9d1f-c64e0a2b9123",
   "metadata": {},
   "source": [
    "## <u><strong>Python Intermediate</strong></u><span style=\"float:right;font-size:medium\"><a href='https://github.com/jayadevnpatil'>github</a></span>\n",
    "This notebook covers following functions\n",
    "* map\n",
    "* filter\n",
    "* reduce\n",
    "\n",
    "<strong style=\"text-align:left;color:green\">Note : This code can be copied and reproduced for educational purposes.</strong> "
   ]
  },
  {
   "cell_type": "markdown",
   "id": "a18220c2-9348-416e-be22-9286c4265990",
   "metadata": {},
   "source": [
    "### 4.1 <strong><tt>map</strong></tt> function"
   ]
  },
  {
   "cell_type": "markdown",
   "id": "3db40837-aa5b-49f9-8902-e7da859d16c1",
   "metadata": {},
   "source": [
    "The map() function in Python is a built-in function that applies a specified function to all items in an iterable (e.g., list, tuple) and returns an iterator that produces the results. \n",
    "\n",
    "The syntax of the map() function is as follows:\n",
    "\n",
    "<strong><tt>map(function, iterable)</strong></tt>\n",
    "\r",
    "* function: The function to apply to each item of the iterable. This can be a built-in function, a user-defined function, or a lambda function.\n",
    "* iterable: The iterable (e.g., list, tuple) whose elements will be processed by the function\n",
    "\n",
    "The map() function does not modify the original iterable; it creates a new iterable containing the results..\n"
   ]
  },
  {
   "cell_type": "markdown",
   "id": "685a398e-41b3-463d-a5a0-7fae3434f80b",
   "metadata": {},
   "source": [
    "#### Using user-defined function"
   ]
  },
  {
   "cell_type": "code",
   "execution_count": 1,
   "id": "09335956-7b1c-4e95-ba5a-4d6451de21ff",
   "metadata": {},
   "outputs": [],
   "source": [
    "# Input data\n",
    "numbers = [1, 2, 3, 4, 5, 6, 7, 8, 9, 10]"
   ]
  },
  {
   "cell_type": "code",
   "execution_count": 2,
   "id": "82713b53-036d-4cd0-b8c9-2970dc2b2b0b",
   "metadata": {},
   "outputs": [],
   "source": [
    "# User defined function\n",
    "def MultiplyByTwo(x):\n",
    "    return x*2"
   ]
  },
  {
   "cell_type": "code",
   "execution_count": 3,
   "id": "6dd371cb-c83e-4b2c-91bc-ef80c999c985",
   "metadata": {},
   "outputs": [
    {
     "name": "stdout",
     "output_type": "stream",
     "text": [
      "[2, 4, 6, 8, 10, 12, 14, 16, 18, 20]\n"
     ]
    }
   ],
   "source": [
    "# Using basic python syntax\n",
    "# -------------------------\n",
    "result = []\n",
    "\n",
    "for number in numbers:\n",
    "    result.append(MultiplyByTwo(number))\n",
    "\n",
    "print(result)"
   ]
  },
  {
   "cell_type": "code",
   "execution_count": 4,
   "id": "30173b14-1195-44d7-9695-ebc3b32202ee",
   "metadata": {},
   "outputs": [
    {
     "name": "stdout",
     "output_type": "stream",
     "text": [
      "[2, 4, 6, 8, 10, 12, 14, 16, 18, 20]\n"
     ]
    }
   ],
   "source": [
    "# Using map functions\n",
    "# -------------------\n",
    "\n",
    "result = list(map(MultiplyByTwo, numbers))\n",
    "\n",
    "print(result)"
   ]
  },
  {
   "cell_type": "markdown",
   "id": "3b6a8647-fbfb-4b25-9879-c57c8b7e1364",
   "metadata": {},
   "source": [
    "#### Using lambda expression"
   ]
  },
  {
   "cell_type": "code",
   "execution_count": 5,
   "id": "97459633-f49f-4897-97bb-44036329d621",
   "metadata": {},
   "outputs": [
    {
     "name": "stdout",
     "output_type": "stream",
     "text": [
      "[2, 4, 6, 8, 10, 12, 14, 16, 18, 20]\n"
     ]
    }
   ],
   "source": [
    "# lambda expression\n",
    "#------------------\n",
    "\n",
    "result = list(map(lambda x: x*2, range(1, 11)))\n",
    "print(result)"
   ]
  },
  {
   "cell_type": "markdown",
   "id": "3d6be6a9-faff-4d81-bbf1-e459788ae94a",
   "metadata": {},
   "source": [
    "#### Using built-in functions"
   ]
  },
  {
   "cell_type": "code",
   "execution_count": 6,
   "id": "f542c5ba-b7f1-4027-8c87-3f6c1475bcbf",
   "metadata": {},
   "outputs": [
    {
     "name": "stdout",
     "output_type": "stream",
     "text": [
      "['1', '2', '3', '4', '5', '6', '7', '8', '9', '10']\n"
     ]
    }
   ],
   "source": [
    "result = list(map(str, range(1, 11)))\n",
    "print(result)"
   ]
  },
  {
   "cell_type": "code",
   "execution_count": 7,
   "id": "8e76f1d7-7b51-4011-b110-40a46be06db0",
   "metadata": {},
   "outputs": [
    {
     "name": "stdout",
     "output_type": "stream",
     "text": [
      "[1, 2, 3, 4, 5, 6, 7, 8, 9, 10]\n"
     ]
    }
   ],
   "source": [
    "numbers = [1, -2, 3, -4, 5, -6, 7, -8, 9, -10]\n",
    "\n",
    "result = list(map(abs, numbers))\n",
    "print(result)"
   ]
  },
  {
   "cell_type": "code",
   "execution_count": 8,
   "id": "ea2d768f-c57c-4616-a568-a240bf26268a",
   "metadata": {},
   "outputs": [
    {
     "name": "stdout",
     "output_type": "stream",
     "text": [
      "[5, 4, 3, 3]\n"
     ]
    }
   ],
   "source": [
    "words = [\"Apple\", \"Ball\", \"Cat\", \"Dog\"]\n",
    "\n",
    "lengthOfWords = list(map(len, words))\n",
    "print(lengthOfWords)"
   ]
  },
  {
   "cell_type": "code",
   "execution_count": 9,
   "id": "7f290d11-4ffc-4645-87a1-a8b3f5aaafec",
   "metadata": {},
   "outputs": [
    {
     "name": "stdout",
     "output_type": "stream",
     "text": [
      "['apple', 'ball', 'cat', 'dog']\n"
     ]
    }
   ],
   "source": [
    "words = [\"Apple\", \"Ball\", \"Cat\", \"Dog\"]\n",
    "\n",
    "lengthOfWords = list(map(str.lower, words))\n",
    "print(lengthOfWords)"
   ]
  },
  {
   "cell_type": "code",
   "execution_count": 10,
   "id": "3c8be957-91e8-46b6-b7bf-2feb7ad81782",
   "metadata": {},
   "outputs": [
    {
     "name": "stdout",
     "output_type": "stream",
     "text": [
      "['A : Apple', 'B : Ball', 'C : Cat', 'D : Dog']\n"
     ]
    }
   ],
   "source": [
    "key = ['A', 'B', 'C', 'D']\n",
    "value = [\"Apple\", \"Ball\", \"Cat\", \"Dog\"]\n",
    "\n",
    "pair = list(map(lambda k, v : k+\" : \"+v, key, value))\n",
    "print(pair)"
   ]
  },
  {
   "cell_type": "markdown",
   "id": "2749ca2b-bba0-48d6-9bab-600bca6f0e18",
   "metadata": {},
   "source": [
    "### 4.2 <strong><tt>filter</strong></tt> function"
   ]
  },
  {
   "cell_type": "markdown",
   "id": "4e43bcd4-c773-4cc4-aad3-b651079519d0",
   "metadata": {},
   "source": [
    "The filter() function in Python is another built-in function that is used to construct an iterator from elements of an iterable for which a function returns true. It filters out elements based on the given function.\n",
    "\n",
    "The syntax of the filter() function is as follows:\n",
    "\n",
    "<strong><tt>filter(function, iterable)\n",
    "</strong></tt>\n",
    "* function: A function that tests whether each element of an iterable is true or false.\n",
    "* iterable: The iterable (e.g., list, tuple) whose elements will be tested by the function\n",
    "\n",
    "The filter() function returns an iterator that produces the items of the input iterable for which the function returned True..\n"
   ]
  },
  {
   "cell_type": "markdown",
   "id": "2c7cfeef-7f02-4ca7-8428-06515fdecb84",
   "metadata": {},
   "source": [
    "#### Using user defined function"
   ]
  },
  {
   "cell_type": "code",
   "execution_count": 11,
   "id": "ffee012e-3107-47bf-8d6d-98bb7e2272b6",
   "metadata": {},
   "outputs": [],
   "source": [
    "# Input data\n",
    "numbers = [1, 2, 3, 4, 5, 6, 7, 8, 9, 10]"
   ]
  },
  {
   "cell_type": "code",
   "execution_count": 12,
   "id": "9e5b9cf5-ec41-4837-a7f5-9ad1afbb881f",
   "metadata": {},
   "outputs": [],
   "source": [
    "# User defined function\n",
    "def IsEven(x):\n",
    "    if x % 2 == 0:\n",
    "        return True\n",
    "    else :\n",
    "        return False"
   ]
  },
  {
   "cell_type": "code",
   "execution_count": 13,
   "id": "c5ea603e-4d7c-49df-adcd-0d9d3af40b20",
   "metadata": {},
   "outputs": [
    {
     "name": "stdout",
     "output_type": "stream",
     "text": [
      "[2, 4, 6, 8, 10]\n"
     ]
    }
   ],
   "source": [
    "# Using basic python syntax\n",
    "# -------------------------\n",
    "\n",
    "result = []\n",
    "\n",
    "for number in numbers:\n",
    "    if IsEven(number):\n",
    "        result.append(number)\n",
    "\n",
    "print(result)"
   ]
  },
  {
   "cell_type": "code",
   "execution_count": 14,
   "id": "36305aa4-3197-40f7-8693-0b935119ccb2",
   "metadata": {},
   "outputs": [
    {
     "name": "stdout",
     "output_type": "stream",
     "text": [
      "[2, 4, 6, 8, 10]\n"
     ]
    }
   ],
   "source": [
    "# Using filter functions\n",
    "# -------------------\n",
    "\n",
    "result = list(filter(IsEven, numbers))\n",
    "\n",
    "print(result)"
   ]
  },
  {
   "cell_type": "markdown",
   "id": "5c8afffb-87c9-488a-89ad-95baff17b5a5",
   "metadata": {},
   "source": [
    "#### Using lambda functions"
   ]
  },
  {
   "cell_type": "code",
   "execution_count": 15,
   "id": "532102db-390f-4681-a809-6663c45a4f33",
   "metadata": {},
   "outputs": [
    {
     "name": "stdout",
     "output_type": "stream",
     "text": [
      "[2, 4, 6, 8, 10]\n"
     ]
    }
   ],
   "source": [
    "result = list(filter(lambda x : x % 2 == 0, range(1,11)))\n",
    "print(result)"
   ]
  },
  {
   "cell_type": "markdown",
   "id": "11c16537-b759-4962-a45b-952f777bdd22",
   "metadata": {},
   "source": [
    "### 4.3 <strong><tt>reduce</strong></tt> function"
   ]
  },
  {
   "cell_type": "markdown",
   "id": "d50d3ab8-7134-4532-b05e-08a00cdc8a1e",
   "metadata": {},
   "source": [
    "The reduce() function in Python is part of the functools module and is used to apply a specified function cumulatively to the items of an iterable, from left to right, so as to reduce the iterable to a single value.\n",
    "\n",
    "The syntax of the reduce() function is as follows:\n",
    "<strong><tt>functools.reduce(function, iterable[, initializer])</strong></tt>\n",
    "\n",
    "* function: A function that takes two arguments and performs the reduction operation. The function should be able to handle the accumulated result and the next element of the iterable.\n",
    "* iterable: The iterable (e.g., list, tuple) whose elements will be reduced.\n",
    "* initializer (optional): If provided, it is placed before the items of the iterable in the calculation and serves as a default when the iterable is empty.y.\n"
   ]
  },
  {
   "cell_type": "code",
   "execution_count": 16,
   "id": "77202363-3728-4191-8ca9-d07e8ad17274",
   "metadata": {},
   "outputs": [
    {
     "name": "stdout",
     "output_type": "stream",
     "text": [
      "55\n"
     ]
    }
   ],
   "source": [
    "# Using basic python syntax\n",
    "# -------------------------\n",
    "\n",
    "sum = 0\n",
    "numbers = range(1,11)\n",
    "\n",
    "for number in numbers:\n",
    "    sum = sum + number\n",
    "print(sum)"
   ]
  },
  {
   "cell_type": "code",
   "execution_count": 17,
   "id": "8dcfd95d-1b88-4ea1-b22e-cc93350d5d35",
   "metadata": {},
   "outputs": [
    {
     "name": "stdout",
     "output_type": "stream",
     "text": [
      "55\n"
     ]
    }
   ],
   "source": [
    "# Using reduce functions\n",
    "# ----------------------\n",
    "from functools import reduce\n",
    "\n",
    "sum = reduce(lambda accumulator, number : accumulator+number, range(1,11), 0)\n",
    "print(sum)"
   ]
  }
 ],
 "metadata": {
  "kernelspec": {
   "display_name": "Python [conda env:jd] *",
   "language": "python",
   "name": "conda-env-jd-py"
  },
  "language_info": {
   "codemirror_mode": {
    "name": "ipython",
    "version": 3
   },
   "file_extension": ".py",
   "mimetype": "text/x-python",
   "name": "python",
   "nbconvert_exporter": "python",
   "pygments_lexer": "ipython3",
   "version": "3.9.18"
  }
 },
 "nbformat": 4,
 "nbformat_minor": 5
}
