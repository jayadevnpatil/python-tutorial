{
 "cells": [
  {
   "cell_type": "markdown",
   "id": "67ad8128-57db-4fcb-9335-c8d4ed152625",
   "metadata": {},
   "source": [
    "<h1 style=\"text-align:left;color:brown\">\n",
    "    Getting Started With Python 🐍\n",
    "    <span style=\"float:right;font-size:medium\">\n",
    "      [ notebook : 007 ] 🟡🔴\n",
    "    </span>\n",
    "</h1>\n",
    "<span style=\"float:right;font-size:medium\"><tt>Code by : Jayadev Patil</tt></span>"
   ]
  },
  {
   "cell_type": "markdown",
   "id": "463fef84-bd1b-4e32-9d1f-c64e0a2b9123",
   "metadata": {},
   "source": [
    "## <strong>Python Intermediate</strong><span style=\"float:right;font-size:medium\"><a href='https://github.com/jayadevnpatil'>github</a></span>\n",
    "This notebook covers **inheritence**\n",
    "* Inheritence in Python\n",
    "* Examples to understand inheritence\"\n",
    "\n",
    "<strong style=\"text-align:left;color:green\">Note : This code can be copied and reproduced for educational purposes.</strong> "
   ]
  },
  {
   "cell_type": "markdown",
   "id": "a18220c2-9348-416e-be22-9286c4265990",
   "metadata": {},
   "source": [
    "### 7.1 Inheritence in Python"
   ]
  },
  {
   "cell_type": "markdown",
   "id": "3db40837-aa5b-49f9-8902-e7da859d16c1",
   "metadata": {},
   "source": [
    "**Inheritance** is a fundamental concept in object-oriented programming (OOP) that allows a new class (derived class) to inherit attributes and methods from an existing class (base class or superclass).\n",
    "\n",
    "Basic syntax as follows :"
   ]
  },
  {
   "cell_type": "code",
   "execution_count": 1,
   "id": "51300a6c-09ae-45ee-868a-51869f454704",
   "metadata": {},
   "outputs": [],
   "source": [
    "class BaseClass:\n",
    "    # Base class attributes and methods\n",
    "    pass\n",
    "\n",
    "class DerivedClass(BaseClass):\n",
    "    # Derived class attributes and methods\n",
    "    pass"
   ]
  },
  {
   "cell_type": "markdown",
   "id": "353d41b9-435f-454d-a088-c7c2ef946289",
   "metadata": {},
   "source": [
    "### 7.2 Examples to understand inheritence"
   ]
  },
  {
   "cell_type": "markdown",
   "id": "369f62dc-971d-4f69-a0a1-7acb8dac4915",
   "metadata": {},
   "source": [
    "#### Example 1: Simple Inheritence"
   ]
  },
  {
   "cell_type": "code",
   "execution_count": 2,
   "id": "0a14c4a5-a47a-4e39-ba5a-fb9231f4433e",
   "metadata": {},
   "outputs": [],
   "source": [
    "# Parent class\n",
    "class Vehicle:\n",
    "    def __init__(self, wheels):\n",
    "        self.wheels = wheels\n",
    "\n",
    "    def move(self):\n",
    "        print(\"Vehicle is moving\")\n",
    "        \n",
    "    def WheelCount(self):\n",
    "        print(self.wheels)\n",
    "\n",
    "# Child class\n",
    "class Bike(Vehicle):\n",
    "    pass"
   ]
  },
  {
   "cell_type": "code",
   "execution_count": 3,
   "id": "f4b65a21-e234-44fc-b05c-9cae1ba31b4f",
   "metadata": {},
   "outputs": [
    {
     "name": "stdout",
     "output_type": "stream",
     "text": [
      "2\n",
      "Vehicle is moving\n"
     ]
    }
   ],
   "source": [
    "bikeInstance = Bike(wheels=2)\n",
    "\n",
    "bikeInstance.WheelCount()\n",
    "bikeInstance.move()"
   ]
  },
  {
   "cell_type": "markdown",
   "id": "7b3d1643-fccd-48c3-bed0-de557cfb9719",
   "metadata": {},
   "source": [
    "* In the example 1 *Vehicle* class has attribute wheels and method move, *Bike* class inherit from the parent class *Vehicle*\n",
    "* The derived class don't has its own *__ init __*, hence it uses the parents *__ init __*"
   ]
  },
  {
   "cell_type": "markdown",
   "id": "5e92dc2e-e16b-4cc8-9ad5-1fa3e7c459dd",
   "metadata": {},
   "source": [
    "#### Example 2 : Method Overriding"
   ]
  },
  {
   "cell_type": "code",
   "execution_count": 4,
   "id": "3be4f5d5-f59d-4653-b820-2f67c7ab38f1",
   "metadata": {},
   "outputs": [],
   "source": [
    "# Parent class\n",
    "class Vehicle:\n",
    "    def __init__(self, wheels):\n",
    "        self.wheels = wheels\n",
    "\n",
    "    def move(self):\n",
    "        print(\"Vehicle is moving\")\n",
    "        \n",
    "    def WheelCount(self):\n",
    "        print(self.wheels)\n",
    "\n",
    "# Child class\n",
    "class Bike(Vehicle):\n",
    "    def move(self):\n",
    "        print(\"Bike is moving\")"
   ]
  },
  {
   "cell_type": "code",
   "execution_count": 5,
   "id": "02dff3b8-f883-4b3e-bf18-cb69e0929b1f",
   "metadata": {},
   "outputs": [
    {
     "name": "stdout",
     "output_type": "stream",
     "text": [
      "2\n",
      "Bike is moving\n"
     ]
    }
   ],
   "source": [
    "bikeInstance = Bike(wheels=2)\n",
    "\n",
    "bikeInstance.WheelCount()\n",
    "bikeInstance.move()"
   ]
  },
  {
   "cell_type": "markdown",
   "id": "96865d37-7001-4ccc-a4e5-94ab9f00128c",
   "metadata": {},
   "source": [
    "* In the example 1 *Vehicle* class has attribute wheels and method move, *Bike* class inherit from the parent class *Vehicle*\n",
    "* The derived class don't has its own *__ init __*, hence it uses the parents *__ init __*\n",
    "* **Method Overriding** :  Providing specific implementation for a method in child class that is already defined in the parent class/superclass.\n",
    "* move method has been overridden in above example."
   ]
  },
  {
   "cell_type": "markdown",
   "id": "9176084a-4253-4273-98c9-fcf9fd5f3259",
   "metadata": {},
   "source": [
    "#### Example 3"
   ]
  },
  {
   "cell_type": "code",
   "execution_count": 6,
   "id": "c1012743-e2c8-431c-aed6-606975df93b8",
   "metadata": {},
   "outputs": [
    {
     "name": "stdout",
     "output_type": "stream",
     "text": [
      "age: 25\n"
     ]
    },
    {
     "ename": "AttributeError",
     "evalue": "'Child' object has no attribute 'name'",
     "output_type": "error",
     "traceback": [
      "\u001b[1;31m---------------------------------------------------------------------------\u001b[0m",
      "\u001b[1;31mAttributeError\u001b[0m                            Traceback (most recent call last)",
      "Cell \u001b[1;32mIn[6], line 14\u001b[0m\n\u001b[0;32m     11\u001b[0m         \u001b[38;5;28mprint\u001b[39m(\u001b[38;5;124mf\u001b[39m\u001b[38;5;124m\"\u001b[39m\u001b[38;5;124mname: \u001b[39m\u001b[38;5;132;01m{\u001b[39;00m\u001b[38;5;28mself\u001b[39m\u001b[38;5;241m.\u001b[39mname\u001b[38;5;132;01m}\u001b[39;00m\u001b[38;5;124m\"\u001b[39m)\n\u001b[0;32m     13\u001b[0m child \u001b[38;5;241m=\u001b[39m Child(name\u001b[38;5;241m=\u001b[39m\u001b[38;5;124m\"\u001b[39m\u001b[38;5;124mJohn\u001b[39m\u001b[38;5;124m\"\u001b[39m, age\u001b[38;5;241m=\u001b[39m\u001b[38;5;241m25\u001b[39m)\n\u001b[1;32m---> 14\u001b[0m \u001b[43mchild\u001b[49m\u001b[38;5;241;43m.\u001b[39;49m\u001b[43mdetails\u001b[49m\u001b[43m(\u001b[49m\u001b[43m)\u001b[49m\n",
      "Cell \u001b[1;32mIn[6], line 11\u001b[0m, in \u001b[0;36mChild.details\u001b[1;34m(self)\u001b[0m\n\u001b[0;32m      9\u001b[0m \u001b[38;5;28;01mdef\u001b[39;00m \u001b[38;5;21mdetails\u001b[39m(\u001b[38;5;28mself\u001b[39m):\n\u001b[0;32m     10\u001b[0m     \u001b[38;5;28mprint\u001b[39m(\u001b[38;5;124mf\u001b[39m\u001b[38;5;124m\"\u001b[39m\u001b[38;5;124mage: \u001b[39m\u001b[38;5;132;01m{\u001b[39;00m\u001b[38;5;28mself\u001b[39m\u001b[38;5;241m.\u001b[39mage\u001b[38;5;132;01m}\u001b[39;00m\u001b[38;5;124m\"\u001b[39m)\n\u001b[1;32m---> 11\u001b[0m     \u001b[38;5;28mprint\u001b[39m(\u001b[38;5;124mf\u001b[39m\u001b[38;5;124m\"\u001b[39m\u001b[38;5;124mname: \u001b[39m\u001b[38;5;132;01m{\u001b[39;00m\u001b[38;5;28mself\u001b[39m\u001b[38;5;241m.\u001b[39mname\u001b[38;5;132;01m}\u001b[39;00m\u001b[38;5;124m\"\u001b[39m)\n",
      "\u001b[1;31mAttributeError\u001b[0m: 'Child' object has no attribute 'name'"
     ]
    }
   ],
   "source": [
    "class Parent:\n",
    "    def __init__(self, name):\n",
    "        self.name = name\n",
    "\n",
    "class Child(Parent):\n",
    "    def __init__(self, name, age):\n",
    "        self.age = age\n",
    "\n",
    "    def details(self):\n",
    "        print(f\"age: {self.age}\")\n",
    "        print(f\"name: {self.name}\")\n",
    "\n",
    "child = Child(name=\"John\", age=25)\n",
    "child.details()"
   ]
  },
  {
   "cell_type": "markdown",
   "id": "4c66c6b3-66f9-4d75-b6db-044ce81cbff6",
   "metadata": {},
   "source": [
    "* In the above example *__ init __* of the child class overrides the *__ init __* of the parent class\n",
    "* Hence we need to initialise the parent class constructor so that the child class would be able to access all the properties of it's parent"
   ]
  },
  {
   "cell_type": "code",
   "execution_count": 7,
   "id": "2f30a8f7-8cbf-4423-b73b-9878b5b38946",
   "metadata": {},
   "outputs": [],
   "source": [
    "class Parent:\n",
    "    def __init__(self, name):\n",
    "        self.name = name"
   ]
  },
  {
   "cell_type": "code",
   "execution_count": 8,
   "id": "d148460b-3c45-4512-8bde-8ab4f43bbb89",
   "metadata": {},
   "outputs": [],
   "source": [
    "class Child(Parent):\n",
    "    def __init__(self, name, age):\n",
    "        Parent.__init__(self, name)\n",
    "        self.age = age\n",
    "\n",
    "    def details(self):\n",
    "        print(f\"age: {self.age}\")\n",
    "        print(f\"name: {self.name}\")"
   ]
  },
  {
   "cell_type": "code",
   "execution_count": 9,
   "id": "df71626f-991b-4a74-9270-fd8a51c8b38b",
   "metadata": {},
   "outputs": [
    {
     "name": "stdout",
     "output_type": "stream",
     "text": [
      "age: 25\n",
      "name: John\n"
     ]
    }
   ],
   "source": [
    "child = Child(name=\"John\", age=25)\n",
    "child.details()"
   ]
  },
  {
   "cell_type": "code",
   "execution_count": 10,
   "id": "d998e512-5f77-4be6-9da2-ae93a25d16fa",
   "metadata": {},
   "outputs": [],
   "source": [
    "class Child(Parent):\n",
    "    def __init__(self, name, age):\n",
    "        super().__init__(name)\n",
    "        self.age = age\n",
    "\n",
    "    def details(self):\n",
    "        print(f\"age: {self.age}\")\n",
    "        print(f\"name: {self.name}\")"
   ]
  },
  {
   "cell_type": "code",
   "execution_count": 11,
   "id": "38c0c9dc-5a3d-4127-9450-c45a904c275b",
   "metadata": {},
   "outputs": [
    {
     "name": "stdout",
     "output_type": "stream",
     "text": [
      "age: 25\n",
      "name: John\n"
     ]
    }
   ],
   "source": [
    "child = Child(name=\"John\", age=25)\n",
    "child.details()"
   ]
  },
  {
   "cell_type": "markdown",
   "id": "07e6fbb2-abef-4184-b21c-969cb8abfe14",
   "metadata": {},
   "source": [
    "#### Example 4"
   ]
  },
  {
   "cell_type": "markdown",
   "id": "56290758-4c31-466d-9e0f-a6f0ee596c67",
   "metadata": {},
   "source": [
    "**Multiple Inheritance** : A class can inherit from multiple classes by listing them in the parentheses."
   ]
  },
  {
   "cell_type": "code",
   "execution_count": 12,
   "id": "52ed2b1d-6381-435d-9a7c-3f03a1028f60",
   "metadata": {},
   "outputs": [],
   "source": [
    "class A:\n",
    "    pass\n",
    "\n",
    "class B:\n",
    "    pass\n",
    "\n",
    "class C(A,B):\n",
    "    pass"
   ]
  }
 ],
 "metadata": {
  "kernelspec": {
   "display_name": "Python [conda env:jd] *",
   "language": "python",
   "name": "conda-env-jd-py"
  },
  "language_info": {
   "codemirror_mode": {
    "name": "ipython",
    "version": 3
   },
   "file_extension": ".py",
   "mimetype": "text/x-python",
   "name": "python",
   "nbconvert_exporter": "python",
   "pygments_lexer": "ipython3",
   "version": "3.9.18"
  }
 },
 "nbformat": 4,
 "nbformat_minor": 5
}
