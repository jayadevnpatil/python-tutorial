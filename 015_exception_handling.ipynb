{
 "cells": [
  {
   "cell_type": "markdown",
   "id": "67ad8128-57db-4fcb-9335-c8d4ed152625",
   "metadata": {},
   "source": [
    "<h1 style=\"text-align:left;color:brown\">\n",
    "    Getting Started With Python 🐍\n",
    "    <span style=\"float:right;font-size:medium\">\n",
    "      [ notebook : 002 ] 🟡🔴\n",
    "    </span>\n",
    "</h1>\n",
    "<span style=\"float:right;font-size:medium\"><tt>Code by : Jayadev Patil</tt></span>"
   ]
  },
  {
   "cell_type": "markdown",
   "id": "463fef84-bd1b-4e32-9d1f-c64e0a2b9123",
   "metadata": {},
   "source": [
    "## <u><strong>Python Intermediate</strong></u><span style=\"float:right;font-size:medium\"><a href='https://github.com/jayadevnpatil'>github</a></span>\n",
    "This notebook covers <tt><strong>Exception Handling</strong></tt> in python \n",
    "* Types of exceptions\n",
    "* Exception occurance\n",
    "* Handling exceptions\n",
    "* Raising exceptions\n",
    "* Creating a custom exception\n",
    "* Structure of generic exception\n",
    "\n",
    "<strong style=\"text-align:left;color:green\">Note : This code can be copied and reproduced for educational purposes.</strong> "
   ]
  },
  {
   "cell_type": "markdown",
   "id": "4bcc1603-c787-4097-b720-22376092d666",
   "metadata": {},
   "source": [
    "* In Python, an exception is an event that occurs during the execution of a program that disrupts the normal flow of instructions.\n",
    "* Exception handling is required for  writing robust and reliable code."
   ]
  },
  {
   "cell_type": "markdown",
   "id": "a18220c2-9348-416e-be22-9286c4265990",
   "metadata": {},
   "source": [
    "### Types of exceptions\n",
    "Python has a variety of built-in exceptions. Few of them are\n",
    "\n",
    "| Exception | Description |\n",
    "|-----------|-------------|\n",
    "|SyntaxError| Raised when there is a syntax error in the code|\n",
    "|TypeError| Raised when an operation or function is applied to an object of an inappropriate type|\n",
    "|ValueError| Raised when a function receives an argument of the correct type but an inappropriate value| \n",
    "|NameError| Raised when python tries to access a local or global variable which is not available in the current scope|\n",
    "|FileNotFoundError| Raised when a file or directory is requested, but cannot be found|\n",
    "|ZeroDivisionError| Raised when division or modulo by zero occurs|\n",
    "|IndexError| Raised when a sequence subscript is out of range |\n",
    "|KeyError| Raised when a dictionary key is not found ||"
   ]
  },
  {
   "cell_type": "markdown",
   "id": "3db40837-aa5b-49f9-8902-e7da859d16c1",
   "metadata": {},
   "source": [
    "#### 2.1 Exceptions occurance"
   ]
  },
  {
   "cell_type": "code",
   "execution_count": 1,
   "id": "87c6597c-33df-43c6-9fa5-ac7194044559",
   "metadata": {},
   "outputs": [],
   "source": [
    "def division(dividend, divisor):\n",
    "    return (dividend/divisor)"
   ]
  },
  {
   "cell_type": "code",
   "execution_count": 2,
   "id": "b5d69044-873a-4770-a888-6f2492321f3a",
   "metadata": {},
   "outputs": [
    {
     "name": "stdout",
     "output_type": "stream",
     "text": [
      "2.0\n"
     ]
    },
    {
     "ename": "TypeError",
     "evalue": "division() missing 1 required positional argument: 'divisor'",
     "output_type": "error",
     "traceback": [
      "\u001b[1;31m---------------------------------------------------------------------------\u001b[0m",
      "\u001b[1;31mTypeError\u001b[0m                                 Traceback (most recent call last)",
      "Cell \u001b[1;32mIn[2], line 2\u001b[0m\n\u001b[0;32m      1\u001b[0m \u001b[38;5;28mprint\u001b[39m(division(\u001b[38;5;241m10\u001b[39m,\u001b[38;5;241m5\u001b[39m))\n\u001b[1;32m----> 2\u001b[0m \u001b[38;5;28mprint\u001b[39m(\u001b[43mdivision\u001b[49m\u001b[43m(\u001b[49m\u001b[38;5;241;43m10\u001b[39;49m\u001b[43m)\u001b[49m)\n",
      "\u001b[1;31mTypeError\u001b[0m: division() missing 1 required positional argument: 'divisor'"
     ]
    }
   ],
   "source": [
    "print(division(10,5))\n",
    "print(division(10))"
   ]
  },
  {
   "cell_type": "code",
   "execution_count": 3,
   "id": "e55804c6-c7e9-4054-83d1-1d4f723588ba",
   "metadata": {},
   "outputs": [
    {
     "ename": "TypeError",
     "evalue": "unsupported operand type(s) for /: 'int' and 'str'",
     "output_type": "error",
     "traceback": [
      "\u001b[1;31m---------------------------------------------------------------------------\u001b[0m",
      "\u001b[1;31mTypeError\u001b[0m                                 Traceback (most recent call last)",
      "Cell \u001b[1;32mIn[3], line 1\u001b[0m\n\u001b[1;32m----> 1\u001b[0m \u001b[38;5;28mprint\u001b[39m(\u001b[43mdivision\u001b[49m\u001b[43m(\u001b[49m\u001b[38;5;241;43m10\u001b[39;49m\u001b[43m,\u001b[49m\u001b[38;5;124;43m'\u001b[39;49m\u001b[38;5;124;43m2\u001b[39;49m\u001b[38;5;124;43m'\u001b[39;49m\u001b[43m)\u001b[49m)\n",
      "Cell \u001b[1;32mIn[1], line 2\u001b[0m, in \u001b[0;36mdivision\u001b[1;34m(dividend, divisor)\u001b[0m\n\u001b[0;32m      1\u001b[0m \u001b[38;5;28;01mdef\u001b[39;00m \u001b[38;5;21mdivision\u001b[39m(dividend, divisor):\n\u001b[1;32m----> 2\u001b[0m     \u001b[38;5;28;01mreturn\u001b[39;00m (\u001b[43mdividend\u001b[49m\u001b[38;5;241;43m/\u001b[39;49m\u001b[43mdivisor\u001b[49m)\n",
      "\u001b[1;31mTypeError\u001b[0m: unsupported operand type(s) for /: 'int' and 'str'"
     ]
    }
   ],
   "source": [
    "print(division(10,'2'))"
   ]
  },
  {
   "cell_type": "code",
   "execution_count": 4,
   "id": "7a5e53d7-f8e1-4e26-8ef4-ec6f9c881208",
   "metadata": {},
   "outputs": [
    {
     "ename": "ZeroDivisionError",
     "evalue": "division by zero",
     "output_type": "error",
     "traceback": [
      "\u001b[1;31m---------------------------------------------------------------------------\u001b[0m",
      "\u001b[1;31mZeroDivisionError\u001b[0m                         Traceback (most recent call last)",
      "Cell \u001b[1;32mIn[4], line 1\u001b[0m\n\u001b[1;32m----> 1\u001b[0m \u001b[38;5;28mprint\u001b[39m(\u001b[43mdivision\u001b[49m\u001b[43m(\u001b[49m\u001b[38;5;241;43m10\u001b[39;49m\u001b[43m,\u001b[49m\u001b[43m \u001b[49m\u001b[38;5;241;43m0\u001b[39;49m\u001b[43m)\u001b[49m)\n",
      "Cell \u001b[1;32mIn[1], line 2\u001b[0m, in \u001b[0;36mdivision\u001b[1;34m(dividend, divisor)\u001b[0m\n\u001b[0;32m      1\u001b[0m \u001b[38;5;28;01mdef\u001b[39;00m \u001b[38;5;21mdivision\u001b[39m(dividend, divisor):\n\u001b[1;32m----> 2\u001b[0m     \u001b[38;5;28;01mreturn\u001b[39;00m (\u001b[43mdividend\u001b[49m\u001b[38;5;241;43m/\u001b[39;49m\u001b[43mdivisor\u001b[49m)\n",
      "\u001b[1;31mZeroDivisionError\u001b[0m: division by zero"
     ]
    }
   ],
   "source": [
    "print(division(10, 0))"
   ]
  },
  {
   "cell_type": "markdown",
   "id": "184b5a69-cfa5-4026-a12f-6aeda383e1f9",
   "metadata": {},
   "source": [
    "#### 2.2 Handling the exceptions"
   ]
  },
  {
   "cell_type": "markdown",
   "id": "5eb6d13e-5507-4aad-82e4-7189d940170c",
   "metadata": {},
   "source": [
    "To handle exceptions, Python provides a try and except block. Code that might raise an exception is placed within the try block, and the corresponding exception-handling code is placed within the except block."
   ]
  },
  {
   "cell_type": "code",
   "execution_count": 5,
   "id": "454d4446-4c87-4008-b33d-017a06ea3e60",
   "metadata": {},
   "outputs": [
    {
     "name": "stdout",
     "output_type": "stream",
     "text": [
      "Type error has occured !!!\n"
     ]
    }
   ],
   "source": [
    "try:\n",
    "    division(10)\n",
    "except TypeError:\n",
    "    print('Type error has occured !!!')"
   ]
  },
  {
   "cell_type": "markdown",
   "id": "fae6933f-49ff-4969-b3c5-b203503f0fc1",
   "metadata": {},
   "source": [
    "But a single type of handler cannot handle all kinds of exceptions, exception handlers are particular to the kind of exceptions"
   ]
  },
  {
   "cell_type": "code",
   "execution_count": 6,
   "id": "fbb948cb-9447-4f50-b8ee-b8114550dd6a",
   "metadata": {},
   "outputs": [
    {
     "ename": "ZeroDivisionError",
     "evalue": "division by zero",
     "output_type": "error",
     "traceback": [
      "\u001b[1;31m---------------------------------------------------------------------------\u001b[0m",
      "\u001b[1;31mZeroDivisionError\u001b[0m                         Traceback (most recent call last)",
      "Cell \u001b[1;32mIn[6], line 2\u001b[0m\n\u001b[0;32m      1\u001b[0m \u001b[38;5;28;01mtry\u001b[39;00m:\n\u001b[1;32m----> 2\u001b[0m     \u001b[43mdivision\u001b[49m\u001b[43m(\u001b[49m\u001b[38;5;241;43m10\u001b[39;49m\u001b[43m,\u001b[49m\u001b[43m \u001b[49m\u001b[38;5;241;43m0\u001b[39;49m\u001b[43m)\u001b[49m\n\u001b[0;32m      3\u001b[0m \u001b[38;5;28;01mexcept\u001b[39;00m \u001b[38;5;167;01mTypeError\u001b[39;00m:\n\u001b[0;32m      4\u001b[0m     \u001b[38;5;28mprint\u001b[39m(\u001b[38;5;124m'\u001b[39m\u001b[38;5;124mType error has occured !!!\u001b[39m\u001b[38;5;124m'\u001b[39m)\n",
      "Cell \u001b[1;32mIn[1], line 2\u001b[0m, in \u001b[0;36mdivision\u001b[1;34m(dividend, divisor)\u001b[0m\n\u001b[0;32m      1\u001b[0m \u001b[38;5;28;01mdef\u001b[39;00m \u001b[38;5;21mdivision\u001b[39m(dividend, divisor):\n\u001b[1;32m----> 2\u001b[0m     \u001b[38;5;28;01mreturn\u001b[39;00m (\u001b[43mdividend\u001b[49m\u001b[38;5;241;43m/\u001b[39;49m\u001b[43mdivisor\u001b[49m)\n",
      "\u001b[1;31mZeroDivisionError\u001b[0m: division by zero"
     ]
    }
   ],
   "source": [
    "try:\n",
    "    division(10, 0)\n",
    "except TypeError:\n",
    "    print('Type error has occured !!!')"
   ]
  },
  {
   "cell_type": "code",
   "execution_count": 7,
   "id": "499057e8-a5e6-46c5-aa24-6202a0c4e42a",
   "metadata": {},
   "outputs": [
    {
     "name": "stdout",
     "output_type": "stream",
     "text": [
      "Error has occured !!!\n"
     ]
    }
   ],
   "source": [
    "try:\n",
    "    division(10, 0)\n",
    "except (TypeError, ZeroDivisionError):\n",
    "    print('Error has occured !!!')"
   ]
  },
  {
   "cell_type": "markdown",
   "id": "08724532-86fb-459e-8304-446a9e87dbeb",
   "metadata": {},
   "source": [
    "Catch the generic exception using below format"
   ]
  },
  {
   "cell_type": "code",
   "execution_count": 8,
   "id": "8ee69bf7-044d-4277-8a59-cd9ccadb1017",
   "metadata": {},
   "outputs": [
    {
     "name": "stdout",
     "output_type": "stream",
     "text": [
      "Unknown error : division by zero, <class 'ZeroDivisionError'>\n"
     ]
    }
   ],
   "source": [
    "try:\n",
    "    division(10, 0)\n",
    "except TypeError:\n",
    "    print('Type error has occured !!!')\n",
    "except Exception as error:\n",
    "    print('Unknown error : {}, {}'.format(error, type(error)))"
   ]
  },
  {
   "cell_type": "markdown",
   "id": "59050ed8-b706-44b4-a086-f7155f284c1c",
   "metadata": {},
   "source": [
    "The *else* block contains code that executes if no exception is raised in the try block."
   ]
  },
  {
   "cell_type": "code",
   "execution_count": 9,
   "id": "9a5de0fc-4442-4f32-acc4-28cab4b3649a",
   "metadata": {},
   "outputs": [
    {
     "name": "stdout",
     "output_type": "stream",
     "text": [
      "quotient : 5.0\n"
     ]
    }
   ],
   "source": [
    "try:\n",
    "    quotient = division(10, 2)\n",
    "except Exception as error:\n",
    "    print('Unknown error : {}, {}'.format(error, type(error)))\n",
    "else:\n",
    "    print(\"quotient :\",quotient)"
   ]
  },
  {
   "cell_type": "markdown",
   "id": "2673c824-a213-4fc0-bbfe-282c2b4a574e",
   "metadata": {},
   "source": [
    "#### 2.3 Raising an exception"
   ]
  },
  {
   "cell_type": "code",
   "execution_count": 10,
   "id": "47367fb3-f6de-4322-9ff4-e07c6fe88102",
   "metadata": {},
   "outputs": [
    {
     "ename": "ValueError",
     "evalue": "Hi",
     "output_type": "error",
     "traceback": [
      "\u001b[1;31m---------------------------------------------------------------------------\u001b[0m",
      "\u001b[1;31mValueError\u001b[0m                                Traceback (most recent call last)",
      "Cell \u001b[1;32mIn[10], line 1\u001b[0m\n\u001b[1;32m----> 1\u001b[0m \u001b[38;5;28;01mraise\u001b[39;00m \u001b[38;5;167;01mValueError\u001b[39;00m(\u001b[38;5;124m'\u001b[39m\u001b[38;5;124mHi\u001b[39m\u001b[38;5;124m'\u001b[39m)\n",
      "\u001b[1;31mValueError\u001b[0m: Hi"
     ]
    }
   ],
   "source": [
    "raise ValueError('Hi')"
   ]
  },
  {
   "cell_type": "code",
   "execution_count": 11,
   "id": "114d19e5-34bf-4e70-88dd-d85dbcf240fb",
   "metadata": {},
   "outputs": [
    {
     "ename": "NameError",
     "evalue": "Hello",
     "output_type": "error",
     "traceback": [
      "\u001b[1;31m---------------------------------------------------------------------------\u001b[0m",
      "\u001b[1;31mNameError\u001b[0m                                 Traceback (most recent call last)",
      "Cell \u001b[1;32mIn[11], line 1\u001b[0m\n\u001b[1;32m----> 1\u001b[0m \u001b[38;5;28;01mraise\u001b[39;00m \u001b[38;5;167;01mNameError\u001b[39;00m(\u001b[38;5;124m'\u001b[39m\u001b[38;5;124mHello\u001b[39m\u001b[38;5;124m'\u001b[39m)\n",
      "\u001b[1;31mNameError\u001b[0m: Hello"
     ]
    }
   ],
   "source": [
    "raise NameError('Hello')"
   ]
  },
  {
   "cell_type": "markdown",
   "id": "f6a45c45-edee-4df6-bcdf-429fcdd9ae70",
   "metadata": {},
   "source": [
    "In order to get help for particular exception"
   ]
  },
  {
   "cell_type": "code",
   "execution_count": 12,
   "id": "c7c8ba3c-9936-4f4e-9007-d2d2d7d0ce4c",
   "metadata": {},
   "outputs": [
    {
     "name": "stdout",
     "output_type": "stream",
     "text": [
      "Help on class NameError in module builtins:\n",
      "\n",
      "class NameError(Exception)\n",
      " |  Name not found globally.\n",
      " |  \n",
      " |  Method resolution order:\n",
      " |      NameError\n",
      " |      Exception\n",
      " |      BaseException\n",
      " |      object\n",
      " |  \n",
      " |  Built-in subclasses:\n",
      " |      UnboundLocalError\n",
      " |  \n",
      " |  Methods defined here:\n",
      " |  \n",
      " |  __init__(self, /, *args, **kwargs)\n",
      " |      Initialize self.  See help(type(self)) for accurate signature.\n",
      " |  \n",
      " |  ----------------------------------------------------------------------\n",
      " |  Static methods defined here:\n",
      " |  \n",
      " |  __new__(*args, **kwargs) from builtins.type\n",
      " |      Create and return a new object.  See help(type) for accurate signature.\n",
      " |  \n",
      " |  ----------------------------------------------------------------------\n",
      " |  Methods inherited from BaseException:\n",
      " |  \n",
      " |  __delattr__(self, name, /)\n",
      " |      Implement delattr(self, name).\n",
      " |  \n",
      " |  __getattribute__(self, name, /)\n",
      " |      Return getattr(self, name).\n",
      " |  \n",
      " |  __reduce__(...)\n",
      " |      Helper for pickle.\n",
      " |  \n",
      " |  __repr__(self, /)\n",
      " |      Return repr(self).\n",
      " |  \n",
      " |  __setattr__(self, name, value, /)\n",
      " |      Implement setattr(self, name, value).\n",
      " |  \n",
      " |  __setstate__(...)\n",
      " |  \n",
      " |  __str__(self, /)\n",
      " |      Return str(self).\n",
      " |  \n",
      " |  with_traceback(...)\n",
      " |      Exception.with_traceback(tb) --\n",
      " |      set self.__traceback__ to tb and return self.\n",
      " |  \n",
      " |  ----------------------------------------------------------------------\n",
      " |  Data descriptors inherited from BaseException:\n",
      " |  \n",
      " |  __cause__\n",
      " |      exception cause\n",
      " |  \n",
      " |  __context__\n",
      " |      exception context\n",
      " |  \n",
      " |  __dict__\n",
      " |  \n",
      " |  __suppress_context__\n",
      " |  \n",
      " |  __traceback__\n",
      " |  \n",
      " |  args\n",
      "\n"
     ]
    }
   ],
   "source": [
    "help(NameError)"
   ]
  },
  {
   "cell_type": "markdown",
   "id": "74ed24c1-7023-4467-89dd-dbfae0398271",
   "metadata": {},
   "source": [
    "#### 2.4 Creating a custom exception"
   ]
  },
  {
   "cell_type": "markdown",
   "id": "62913ad4-8643-4984-bd83-38f26a0fbef9",
   "metadata": {},
   "source": [
    "Python allows us to define our own exception types that can be raised and caught. To create a custom exception, define a new class that inherits from the built-in Exception class"
   ]
  },
  {
   "cell_type": "code",
   "execution_count": 13,
   "id": "ae336f8b-4bad-40c1-affe-e4a2e221a9b7",
   "metadata": {},
   "outputs": [],
   "source": [
    "class InvalidIndexException(Exception):\n",
    "    def __init__(self, index):\n",
    "        self.index = index\n",
    "        super().__init__(self.index)\n"
   ]
  },
  {
   "cell_type": "code",
   "execution_count": 14,
   "id": "585394fd-2fc6-45b9-9a38-884e3e611f12",
   "metadata": {},
   "outputs": [
    {
     "ename": "InvalidIndexException",
     "evalue": "-10",
     "output_type": "error",
     "traceback": [
      "\u001b[1;31m---------------------------------------------------------------------------\u001b[0m",
      "\u001b[1;31mInvalidIndexException\u001b[0m                     Traceback (most recent call last)",
      "Cell \u001b[1;32mIn[14], line 3\u001b[0m\n\u001b[0;32m      1\u001b[0m index \u001b[38;5;241m=\u001b[39m \u001b[38;5;241m-\u001b[39m\u001b[38;5;241m10\u001b[39m\n\u001b[0;32m      2\u001b[0m \u001b[38;5;28;01mif\u001b[39;00m (index \u001b[38;5;241m<\u001b[39m \u001b[38;5;241m0\u001b[39m):\n\u001b[1;32m----> 3\u001b[0m         \u001b[38;5;28;01mraise\u001b[39;00m(InvalidIndexException(index))\n",
      "\u001b[1;31mInvalidIndexException\u001b[0m: -10"
     ]
    }
   ],
   "source": [
    "index = -10\n",
    "if (index < 0):\n",
    "        raise(InvalidIndexException(index))"
   ]
  },
  {
   "cell_type": "code",
   "execution_count": 15,
   "id": "a27550a3-3dd9-4847-a163-016f8b4fecd4",
   "metadata": {},
   "outputs": [
    {
     "name": "stdout",
     "output_type": "stream",
     "text": [
      "Exception: invalid index -10\n"
     ]
    }
   ],
   "source": [
    "try:\n",
    "    if (index < 0):\n",
    "        raise(InvalidIndexException(index))\n",
    "except InvalidIndexException as exc:\n",
    "    print('Exception: invalid index {}'.format(exc.index))"
   ]
  },
  {
   "cell_type": "markdown",
   "id": "d53993f3-3dc2-4601-8ec3-93833b462c64",
   "metadata": {},
   "source": [
    "The finally block contains code that always executes, regardless of whether an exception occurred or not."
   ]
  },
  {
   "cell_type": "code",
   "execution_count": 16,
   "id": "63961acc-3cd6-4c16-8ea9-847c1662a7a5",
   "metadata": {},
   "outputs": [
    {
     "name": "stdout",
     "output_type": "stream",
     "text": [
      "Index checking completed\n"
     ]
    }
   ],
   "source": [
    "# While exception does not occur\n",
    "\n",
    "try:\n",
    "    index = 5\n",
    "    if (index < 0):\n",
    "        raise(InvalidIndexException(index))\n",
    "except InvalidIndexException as exc:\n",
    "    print('Exception: invalid index {}'.format(exc.index))\n",
    "finally:\n",
    "    print('Index checking completed')"
   ]
  },
  {
   "cell_type": "code",
   "execution_count": 17,
   "id": "aec30272-53ad-421f-afbd-e4ccb2fe3d91",
   "metadata": {},
   "outputs": [
    {
     "name": "stdout",
     "output_type": "stream",
     "text": [
      "Exception: invalid index -1\n",
      "Index checking completed\n"
     ]
    }
   ],
   "source": [
    "# While exception occurs\n",
    "\n",
    "try:\n",
    "    index = -1\n",
    "    if (index < 0):\n",
    "        raise(InvalidIndexException(index))\n",
    "except InvalidIndexException as exc:\n",
    "    print('Exception: invalid index {}'.format(exc.index))\n",
    "finally:\n",
    "    print('Index checking completed')\n"
   ]
  },
  {
   "cell_type": "markdown",
   "id": "6a044a71-692c-4bab-9b5c-f5fffda4f0be",
   "metadata": {},
   "source": [
    "#### 2.5 Structure of exception block"
   ]
  },
  {
   "cell_type": "code",
   "execution_count": null,
   "id": "ee8dfcb4-3c0e-40a3-b008-0d59886d1fd3",
   "metadata": {},
   "outputs": [],
   "source": [
    "try:\n",
    "    # Code that may raise an exception\n",
    "    \n",
    "except Exception as e1:\n",
    "    # Code to handle Exception\n",
    "    \n",
    "else:\n",
    "    # Code that executes if no exception is raised\n",
    "\n",
    "finally:\n",
    "    # Code that always executes, regardless of whether an exception occurred or not\n"
   ]
  }
 ],
 "metadata": {
  "kernelspec": {
   "display_name": "Python [conda env:jd] *",
   "language": "python",
   "name": "conda-env-jd-py"
  },
  "language_info": {
   "codemirror_mode": {
    "name": "ipython",
    "version": 3
   },
   "file_extension": ".py",
   "mimetype": "text/x-python",
   "name": "python",
   "nbconvert_exporter": "python",
   "pygments_lexer": "ipython3",
   "version": "3.9.18"
  }
 },
 "nbformat": 4,
 "nbformat_minor": 5
}
