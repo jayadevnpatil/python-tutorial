{
 "cells": [
  {
   "cell_type": "markdown",
   "id": "52047cd6-770a-4888-9f18-a15540bd532f",
   "metadata": {},
   "source": [
    "<h1 style=\"text-align:left;color:brown\">\n",
    "    Getting Started With Python 🐍\n",
    "    <span style=\"float:right;font-size:medium\">\n",
    "      [ notebook : datetime ] 🟡🔴\n",
    "    </span>\n",
    "</h1>\n",
    "<span style=\"float:right;font-size:medium\"><tt>Code by : Jayadev Patil</tt></span>"
   ]
  },
  {
   "cell_type": "markdown",
   "id": "8e450158-4f30-4822-a29c-d47dc8cb9b32",
   "metadata": {},
   "source": [
    "## <u><strong>Python Intermediate</strong></u><span style=\"float:right;font-size:medium\"><a href='https://github.com/jayadevnpatil'>github</a></span>\n",
    "This notebook covers **datetime** module of python\n",
    "\n",
    "<strong style=\"text-align:left;color:green\">Note : This code can be copied and reproduced for educational purposes.</strong> "
   ]
  },
  {
   "cell_type": "markdown",
   "id": "0d13801b-b76d-42b1-b6f7-4d2fcab3cb63",
   "metadata": {},
   "source": [
    "### Introduction to the datetime Module\n",
    "\n",
    "The datetime module is part of the Python standard library and provides classes for working with dates and times.It includes the **datetime** class for representing both date and time information"
   ]
  },
  {
   "cell_type": "code",
   "execution_count": 2,
   "id": "c83b2b74-1882-4442-94d7-f257402e6f1b",
   "metadata": {},
   "outputs": [
    {
     "name": "stdout",
     "output_type": "stream",
     "text": [
      "2023-11-30 00:00:00\n",
      "2023-11-30\n",
      "07:30:02.000152\n"
     ]
    }
   ],
   "source": [
    "# creating date time objects\n",
    "import datetime\n",
    "\n",
    "x = datetime.datetime(2023, 11, 30)\n",
    "y = datetime.date(2023, 11, 30)\n",
    "z = datetime.time(7, 30, 2, 152)\n",
    "\n",
    "print(x)\n",
    "print(y)\n",
    "print(z)"
   ]
  },
  {
   "cell_type": "markdown",
   "id": "34b6814c-c58b-4066-87ed-82d7bbc8720f",
   "metadata": {},
   "source": [
    "The datetime.now() method is used to get the current date and time"
   ]
  },
  {
   "cell_type": "code",
   "execution_count": 3,
   "id": "fa6e251c-8f8d-4d69-ba1b-24011acf296b",
   "metadata": {},
   "outputs": [
    {
     "name": "stdout",
     "output_type": "stream",
     "text": [
      "2023-12-25 19:02:56.638890\n"
     ]
    }
   ],
   "source": [
    "x = datetime.datetime.now()\n",
    "print(x)"
   ]
  },
  {
   "cell_type": "markdown",
   "id": "3c8a4ae3-1f57-4eee-91ac-d7afcbbfe9b7",
   "metadata": {},
   "source": [
    "Extracting individual components of the datetime object"
   ]
  },
  {
   "cell_type": "code",
   "execution_count": 47,
   "id": "2441b736-1735-4174-b798-51e671b89700",
   "metadata": {},
   "outputs": [
    {
     "name": "stdout",
     "output_type": "stream",
     "text": [
      "2023\n",
      "11\n",
      "30\n",
      "----------\n",
      "7\n",
      "50\n",
      "13\n",
      "867546\n"
     ]
    }
   ],
   "source": [
    "print(x.year)\n",
    "print(x.month)\n",
    "print(x.day)\n",
    "print(\"-\"*10)\n",
    "print(x.hour)\n",
    "print(x.minute)\n",
    "print(x.second)\n",
    "print(x.microsecond)"
   ]
  },
  {
   "cell_type": "markdown",
   "id": "da781640-ac03-4567-b376-26fe9e4d20d3",
   "metadata": {},
   "source": [
    "The strftime method in Python's datetime module is used to format a datetime object as a string."
   ]
  },
  {
   "cell_type": "code",
   "execution_count": 63,
   "id": "c40283c7-22e8-4f59-93a9-ada43aef8f20",
   "metadata": {},
   "outputs": [
    {
     "name": "stdout",
     "output_type": "stream",
     "text": [
      "Thu Nov 30 08:04:54 2023\n",
      "11/30/23\n",
      "08:04:54\n",
      "\n",
      "Thu\n",
      "Thursday\n",
      "Nov\n",
      "November\n",
      "20\n",
      "23\n",
      "2023\n",
      "\n",
      "4\n",
      "11\n",
      "\n",
      "08\n",
      "04\n",
      "54\n",
      "\n",
      "08\n",
      "AM\n",
      "\n",
      "334\n",
      "48\n",
      "48\n"
     ]
    }
   ],
   "source": [
    "import datetime\n",
    "\n",
    "x = datetime.datetime.now()\n",
    "\n",
    "print(x.strftime(\"%c\")) # Local version of date and time\n",
    "print(x.strftime(\"%x\")) # Local version of date\n",
    "print(x.strftime(\"%X\")) # Local version of time\n",
    "print()\n",
    "print(x.strftime(\"%a\")) # weekday short\n",
    "print(x.strftime(\"%A\")) # weekday long\n",
    "print(x.strftime(\"%b\")) # month short\n",
    "print(x.strftime(\"%B\")) # month long\n",
    "print(x.strftime(\"%C\")) # century\n",
    "print(x.strftime(\"%y\")) # year short\n",
    "print(x.strftime(\"%Y\")) # year long\n",
    "print()\n",
    "print(x.strftime(\"%w\")) # weekday as number, sunday = 0\n",
    "print(x.strftime(\"%m\")) # month as number, january = 1\n",
    "print()\n",
    "print(x.strftime(\"%H\")) # hour 00-24 \n",
    "print(x.strftime(\"%M\")) # minute 00-59\n",
    "print(x.strftime(\"%S\")) # seconds 00-59\n",
    "print()\n",
    "print(x.strftime(\"%I\")) # hour 00-12\n",
    "print(x.strftime(\"%p\")) # AM/PM\n",
    "print()\n",
    "print(x.strftime(\"%j\")) # day number of year 001-366\n",
    "print(x.strftime(\"%U\")) # week number of year Sunday as first day\n",
    "print(x.strftime(\"%W\")) # week number of year Monday as first day"
   ]
  }
 ],
 "metadata": {
  "kernelspec": {
   "display_name": "Python [conda env:jd] *",
   "language": "python",
   "name": "conda-env-jd-py"
  },
  "language_info": {
   "codemirror_mode": {
    "name": "ipython",
    "version": 3
   },
   "file_extension": ".py",
   "mimetype": "text/x-python",
   "name": "python",
   "nbconvert_exporter": "python",
   "pygments_lexer": "ipython3",
   "version": "3.9.18"
  }
 },
 "nbformat": 4,
 "nbformat_minor": 5
}
