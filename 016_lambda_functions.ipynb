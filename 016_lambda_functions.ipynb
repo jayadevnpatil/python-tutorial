{
 "cells": [
  {
   "cell_type": "markdown",
   "id": "67ad8128-57db-4fcb-9335-c8d4ed152625",
   "metadata": {},
   "source": [
    "<h1 style=\"text-align:left;color:brown\">\n",
    "    Getting Started With Python 🐍\n",
    "    <span style=\"float:right;font-size:medium\">\n",
    "      [ notebook : 0 ] 🟡🔴\n",
    "    </span>\n",
    "</h1>\n",
    "<span style=\"float:right;font-size:medium\"><tt>Code by : Jayadev Patil</tt></span>"
   ]
  },
  {
   "cell_type": "markdown",
   "id": "463fef84-bd1b-4e32-9d1f-c64e0a2b9123",
   "metadata": {},
   "source": [
    "## <u><strong>Python Intermediate</strong></u><span style=\"float:right;font-size:medium\"><a href='https://github.com/jayadevnpatil'>github</a></span>\n",
    "This notebook covers **Lambda expressions** in python\n",
    "\n",
    "<strong style=\"text-align:left;color:green\">Note : This code can be copied and reproduced for educational purposes.</strong> "
   ]
  },
  {
   "cell_type": "markdown",
   "id": "a18220c2-9348-416e-be22-9286c4265990",
   "metadata": {},
   "source": [
    "### 3.1 Lambda expressions"
   ]
  },
  {
   "cell_type": "markdown",
   "id": "3db40837-aa5b-49f9-8902-e7da859d16c1",
   "metadata": {},
   "source": [
    "Lambda functions in Python are anonymous, small, and inline functions that are defined using the lambda keyword. They are also known as lambda expressions. Lambda functions are often used for short, simple operations where a full function definition is not necessary"
   ]
  },
  {
   "cell_type": "markdown",
   "id": "7d9e6df4-fbf2-4dd3-9c7a-451f907223b9",
   "metadata": {},
   "source": [
    "<strong><tt>lambda arguments: expression</strong></tt>"
   ]
  },
  {
   "cell_type": "markdown",
   "id": "5c0d9090-f236-4183-ae6f-19f6ec8e014a",
   "metadata": {},
   "source": [
    "Here, arguments are the input parameters, and expression is the operation performed on these parameters. The lambda expression returns a function object.\n",
    "\n",
    "The result of the expression is implicitly returned."
   ]
  },
  {
   "cell_type": "markdown",
   "id": "8056807a-cd52-4f3b-b560-a4df67a43f37",
   "metadata": {},
   "source": [
    "* **Example**"
   ]
  },
  {
   "cell_type": "code",
   "execution_count": 1,
   "id": "f38be9cb-66f0-4ae4-8e77-c78c55fb72d0",
   "metadata": {},
   "outputs": [
    {
     "name": "stdout",
     "output_type": "stream",
     "text": [
      "Hello World!\n"
     ]
    }
   ],
   "source": [
    "# Regular function\n",
    "\n",
    "def HelloWorld():\n",
    "    print(\"Hello World!\")\n",
    "    \n",
    "HelloWorld()"
   ]
  },
  {
   "cell_type": "code",
   "execution_count": 2,
   "id": "98ff5713-a884-4417-aa12-1bc03b48ac1b",
   "metadata": {},
   "outputs": [
    {
     "name": "stdout",
     "output_type": "stream",
     "text": [
      "Hello World!\n"
     ]
    }
   ],
   "source": [
    "# Lambda Expression\n",
    "\n",
    "HelloWorld = lambda : print(\"Hello World!\")\n",
    "HelloWorld()"
   ]
  },
  {
   "cell_type": "markdown",
   "id": "32eef60e-b72f-4ca5-b33b-ea5364c6e949",
   "metadata": {},
   "source": [
    "Above lambda expression doesn't take any input and prints the output"
   ]
  },
  {
   "cell_type": "markdown",
   "id": "63c9abec-52a4-4483-8441-7e8ecf002a9b",
   "metadata": {},
   "source": [
    "* **Examples**\n",
    "  Lambda expression with no input arguments"
   ]
  },
  {
   "cell_type": "code",
   "execution_count": 3,
   "id": "e0616f2b-c447-4d87-9ce6-8fb94a4cef8b",
   "metadata": {},
   "outputs": [
    {
     "name": "stdout",
     "output_type": "stream",
     "text": [
      "3.14159265359\n"
     ]
    }
   ],
   "source": [
    "# Regular function\n",
    "\n",
    "def ReturnPI():\n",
    "    return 3.14159265359\n",
    "    \n",
    "print(ReturnPI())"
   ]
  },
  {
   "cell_type": "code",
   "execution_count": 4,
   "id": "3fe0cb0d-6953-47ca-a97c-600a0e2d1370",
   "metadata": {},
   "outputs": [
    {
     "name": "stdout",
     "output_type": "stream",
     "text": [
      "3.14159265359\n"
     ]
    }
   ],
   "source": [
    "# Lambda Expression\n",
    "\n",
    "ReturnPI = lambda : 3.14159265359\n",
    "print(ReturnPI())"
   ]
  },
  {
   "cell_type": "markdown",
   "id": "b6397030-1492-4bf1-96cc-30a6c4b5c077",
   "metadata": {},
   "source": [
    "* **Example**\n",
    "  Lambda expression with one input arguments"
   ]
  },
  {
   "cell_type": "code",
   "execution_count": 5,
   "id": "67e608ae-4d65-4f53-ae11-5baa68f5930c",
   "metadata": {},
   "outputs": [
    {
     "name": "stdout",
     "output_type": "stream",
     "text": [
      "9\n"
     ]
    }
   ],
   "source": [
    "# Lambda Expression\n",
    "\n",
    "AddOne = lambda a : a+1\n",
    "print(AddOne(8))"
   ]
  },
  {
   "cell_type": "code",
   "execution_count": 6,
   "id": "8faa799e-189a-44a6-b4d8-2cfbcbe495e6",
   "metadata": {},
   "outputs": [
    {
     "name": "stdout",
     "output_type": "stream",
     "text": [
      "25\n"
     ]
    }
   ],
   "source": [
    "# Lambda Expression\n",
    "\n",
    "SquareIt = lambda x : pow(x,2) \n",
    "print(SquareIt(5))"
   ]
  },
  {
   "cell_type": "code",
   "execution_count": 7,
   "id": "5ec2b3f4-355c-4522-afd9-7a0cbee4f7b6",
   "metadata": {},
   "outputs": [
    {
     "name": "stdout",
     "output_type": "stream",
     "text": [
      "Hello Jayadev\n"
     ]
    }
   ],
   "source": [
    "# Lambda Expression\n",
    "\n",
    "SayHello = lambda name : print(\"Hello\", name)\n",
    "SayHello(\"Jayadev\")"
   ]
  },
  {
   "cell_type": "markdown",
   "id": "e694baec-a38e-429d-9a5f-ea6390020f24",
   "metadata": {},
   "source": [
    "* **Example**\n",
    "  Lambda expression with two input arguments"
   ]
  },
  {
   "cell_type": "code",
   "execution_count": 8,
   "id": "c7da7425-016f-46ad-8582-d430f1a840bb",
   "metadata": {},
   "outputs": [
    {
     "name": "stdout",
     "output_type": "stream",
     "text": [
      "11\n"
     ]
    }
   ],
   "source": [
    "# Lambda Expression\n",
    "\n",
    "AddBoth = lambda first, second : first + second\n",
    "print(AddBoth(5,6))"
   ]
  },
  {
   "cell_type": "markdown",
   "id": "313a9873-e31c-4294-ba95-8c9ceaad5b8f",
   "metadata": {},
   "source": [
    "* **Example**\n",
    "  Lambda expression with three input arguments"
   ]
  },
  {
   "cell_type": "code",
   "execution_count": 9,
   "id": "c7a4733d-2234-4d24-a441-651767f4734b",
   "metadata": {},
   "outputs": [
    {
     "name": "stdout",
     "output_type": "stream",
     "text": [
      "6\n"
     ]
    }
   ],
   "source": [
    "# Lambda Expression\n",
    "\n",
    "AddAll = lambda x, y, z : x+y+z\n",
    "print(AddAll(1,2,3))"
   ]
  },
  {
   "cell_type": "markdown",
   "id": "0c253238-a29d-43d4-b25a-b240a9f54127",
   "metadata": {},
   "source": [
    "* **Example** Lambda expression with if-else"
   ]
  },
  {
   "cell_type": "code",
   "execution_count": 10,
   "id": "0c5303bd-72b6-4a1e-a674-c561d3c3fd74",
   "metadata": {},
   "outputs": [
    {
     "name": "stdout",
     "output_type": "stream",
     "text": [
      "Eligible\n"
     ]
    }
   ],
   "source": [
    "# Lambda Expression\n",
    "\n",
    "CheckAge = lambda age: \"Eligible\" if age>18 else \"Not Eligible\"\n",
    "print(CheckAge(26))"
   ]
  },
  {
   "cell_type": "markdown",
   "id": "b3e7ca3c-9da1-4f06-b8cf-3076a3b04dcc",
   "metadata": {},
   "source": [
    "* **Example** Lambda expression with list comprehension"
   ]
  },
  {
   "cell_type": "code",
   "execution_count": 11,
   "id": "b1e65d9c-816d-4b61-9cc0-0621a7c20db6",
   "metadata": {},
   "outputs": [
    {
     "name": "stdout",
     "output_type": "stream",
     "text": [
      "[1, 27, 125, 343, 729, 1331, 2197, 3375, 4913, 6859]\n"
     ]
    }
   ],
   "source": [
    "# create a function object \n",
    "cubeNumber = lambda element: pow(element,3)\n",
    "\n",
    "# cube every element produced by range function && store it in resultArray\n",
    "resultArray = [ cubeNumber(number) for number in range(1,20,2) ]\n",
    "\n",
    "print(resultArray)"
   ]
  }
 ],
 "metadata": {
  "kernelspec": {
   "display_name": "Python [conda env:jd] *",
   "language": "python",
   "name": "conda-env-jd-py"
  },
  "language_info": {
   "codemirror_mode": {
    "name": "ipython",
    "version": 3
   },
   "file_extension": ".py",
   "mimetype": "text/x-python",
   "name": "python",
   "nbconvert_exporter": "python",
   "pygments_lexer": "ipython3",
   "version": "3.9.18"
  }
 },
 "nbformat": 4,
 "nbformat_minor": 5
}
